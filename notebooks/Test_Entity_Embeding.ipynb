{
 "cells": [
  {
   "cell_type": "code",
   "execution_count": 1,
   "metadata": {},
   "outputs": [
    {
     "name": "stderr",
     "output_type": "stream",
     "text": [
      "Using Theano backend.\n",
      "Using cuDNN version 7101 on context None\n",
      "Mapped name None to device cuda0: GeForce MX150 (0000:01:00.0)\n"
     ]
    }
   ],
   "source": [
    "import pandas as pd\n",
    "import numpy as np\n",
    "from snn import Entity, Relation, SNN\n",
    "from snn.utils import print_model, draw"
   ]
  },
  {
   "cell_type": "code",
   "execution_count": 2,
   "metadata": {},
   "outputs": [],
   "source": [
    "Person = Entity(\"Person\")\n",
    "Movie = Entity(\"Movie\")"
   ]
  },
  {
   "cell_type": "code",
   "execution_count": 3,
   "metadata": {},
   "outputs": [],
   "source": [
    "df = pd.read_csv(\"../data/IMDB/relations.tsv.gz\", sep=\"\\t\", names=['Movie', 'Relation', 'Person'], nrows=100211)"
   ]
  },
  {
   "cell_type": "code",
   "execution_count": 4,
   "metadata": {},
   "outputs": [
    {
     "data": {
      "text/html": [
       "<div>\n",
       "<style scoped>\n",
       "    .dataframe tbody tr th:only-of-type {\n",
       "        vertical-align: middle;\n",
       "    }\n",
       "\n",
       "    .dataframe tbody tr th {\n",
       "        vertical-align: top;\n",
       "    }\n",
       "\n",
       "    .dataframe thead th {\n",
       "        text-align: right;\n",
       "    }\n",
       "</style>\n",
       "<table border=\"1\" class=\"dataframe\">\n",
       "  <thead>\n",
       "    <tr style=\"text-align: right;\">\n",
       "      <th></th>\n",
       "      <th>Movie</th>\n",
       "      <th>Relation</th>\n",
       "      <th>Person</th>\n",
       "    </tr>\n",
       "  </thead>\n",
       "  <tbody>\n",
       "    <tr>\n",
       "      <th>0</th>\n",
       "      <td>Carmencita</td>\n",
       "      <td>self</td>\n",
       "      <td>Carmencita</td>\n",
       "    </tr>\n",
       "    <tr>\n",
       "      <th>1</th>\n",
       "      <td>Carmencita</td>\n",
       "      <td>director</td>\n",
       "      <td>William K.L. Dickson</td>\n",
       "    </tr>\n",
       "    <tr>\n",
       "      <th>2</th>\n",
       "      <td>Carmencita</td>\n",
       "      <td>cinematographer</td>\n",
       "      <td>William Heise</td>\n",
       "    </tr>\n",
       "    <tr>\n",
       "      <th>3</th>\n",
       "      <td>Le clown et ses chiens</td>\n",
       "      <td>director</td>\n",
       "      <td>Émile Reynaud</td>\n",
       "    </tr>\n",
       "    <tr>\n",
       "      <th>4</th>\n",
       "      <td>Le clown et ses chiens</td>\n",
       "      <td>composer</td>\n",
       "      <td>Gaston Paulin</td>\n",
       "    </tr>\n",
       "  </tbody>\n",
       "</table>\n",
       "</div>"
      ],
      "text/plain": [
       "                    Movie         Relation                Person\n",
       "0              Carmencita             self            Carmencita\n",
       "1              Carmencita         director  William K.L. Dickson\n",
       "2              Carmencita  cinematographer         William Heise\n",
       "3  Le clown et ses chiens         director         Émile Reynaud\n",
       "4  Le clown et ses chiens         composer         Gaston Paulin"
      ]
     },
     "execution_count": 4,
     "metadata": {},
     "output_type": "execute_result"
    }
   ],
   "source": [
    "df.head()"
   ]
  },
  {
   "cell_type": "code",
   "execution_count": 5,
   "metadata": {},
   "outputs": [
    {
     "data": {
      "text/plain": [
       "{'director': director(<Movie> , <Person>),\n",
       " 'cinematographer': cinematographer(<Movie> , <Person>),\n",
       " 'composer': composer(<Movie> , <Person>),\n",
       " 'producer': producer(<Movie> , <Person>),\n",
       " 'editor': editor(<Movie> , <Person>),\n",
       " 'actor': actor(<Movie> , <Person>),\n",
       " 'actress': actress(<Movie> , <Person>),\n",
       " 'writer': writer(<Movie> , <Person>),\n",
       " 'production_designer': production_designer(<Movie> , <Person>),\n",
       " 'archive_footage': archive_footage(<Movie> , <Person>)}"
      ]
     },
     "execution_count": 5,
     "metadata": {},
     "output_type": "execute_result"
    }
   ],
   "source": [
    "relations = {l: Relation(label=l, dst=Person, src=Movie) for l in df['Relation'].unique() if l!='self'}\n",
    "relations"
   ]
  },
  {
   "cell_type": "code",
   "execution_count": 6,
   "metadata": {},
   "outputs": [
    {
     "data": {
      "text/plain": [
       "[<Person>, <Movie>]"
      ]
     },
     "execution_count": 6,
     "metadata": {},
     "output_type": "execute_result"
    }
   ],
   "source": [
    "entities = [Person, Movie]\n",
    "entities"
   ]
  },
  {
   "cell_type": "code",
   "execution_count": 7,
   "metadata": {},
   "outputs": [],
   "source": [
    "X = [t.Person + \" @ \" + t.Movie for t in df.itertuples() if t.Relation!='self']\n",
    "y = [[relations[t.Relation]] for t in df.itertuples() if t.Relation!='self']\n",
    "person = [t.Person for t in df.itertuples() if t.Relation!='self']\n",
    "movie = [t.Movie for t in df.itertuples() if t.Relation!='self']"
   ]
  },
  {
   "cell_type": "code",
   "execution_count": 8,
   "metadata": {},
   "outputs": [
    {
     "name": "stdout",
     "output_type": "stream",
     "text": [
      "100000 100000\n"
     ]
    }
   ],
   "source": [
    "print(len(person), len(movie))"
   ]
  },
  {
   "cell_type": "code",
   "execution_count": 9,
   "metadata": {},
   "outputs": [],
   "source": [
    "from sklearn.feature_extraction.text import CountVectorizer"
   ]
  },
  {
   "cell_type": "code",
   "execution_count": 10,
   "metadata": {},
   "outputs": [],
   "source": [
    "cv = CountVectorizer(dtype='int32')\n",
    "Xt = cv.fit_transform(X)"
   ]
  },
  {
   "cell_type": "code",
   "execution_count": 11,
   "metadata": {},
   "outputs": [],
   "source": [
    "instances = sorted(list(set(person+movie)))"
   ]
  },
  {
   "cell_type": "markdown",
   "metadata": {},
   "source": [
    "## Contruyendo el embeding de entidadas"
   ]
  },
  {
   "cell_type": "code",
   "execution_count": 12,
   "metadata": {},
   "outputs": [],
   "source": [
    "emb_m = SNN.build_embeding(cv, instances, check=False)"
   ]
  },
  {
   "cell_type": "code",
   "execution_count": 13,
   "metadata": {},
   "outputs": [
    {
     "name": "stdout",
     "output_type": "stream",
     "text": [
      "_________________________________________________________________\n",
      "Layer (type)                 Output Shape              Param #   \n",
      "=================================================================\n",
      "input_1 (InputLayer)         (None, 21797)             0         \n",
      "_________________________________________________________________\n",
      "entity_embeding_1 (EntityEmb (None, 30924)             0         \n",
      "=================================================================\n",
      "Total params: 0\n",
      "Trainable params: 0\n",
      "Non-trainable params: 0\n",
      "_________________________________________________________________\n"
     ]
    }
   ],
   "source": [
    "emb_m.summary()"
   ]
  },
  {
   "cell_type": "code",
   "execution_count": 14,
   "metadata": {},
   "outputs": [
    {
     "data": {
      "image/svg+xml": [
       "<?xml version=\"1.0\" encoding=\"UTF-8\" standalone=\"no\"?>\n",
       "<!DOCTYPE svg PUBLIC \"-//W3C//DTD SVG 1.1//EN\"\n",
       " \"http://www.w3.org/Graphics/SVG/1.1/DTD/svg11.dtd\">\n",
       "<!-- Generated by graphviz version 2.40.1 (20161225.0304)\n",
       " -->\n",
       "<!-- Title: G Pages: 1 -->\n",
       "<svg width=\"226pt\" height=\"118pt\"\n",
       " viewBox=\"0.00 0.00 226.00 118.00\" xmlns=\"http://www.w3.org/2000/svg\" xmlns:xlink=\"http://www.w3.org/1999/xlink\">\n",
       "<g id=\"graph0\" class=\"graph\" transform=\"scale(1 1) rotate(0) translate(4 114)\">\n",
       "<title>G</title>\n",
       "<polygon fill=\"#ffffff\" stroke=\"transparent\" points=\"-4,4 -4,-114 222,-114 222,4 -4,4\"/>\n",
       "<!-- 140258207830088 -->\n",
       "<g id=\"node1\" class=\"node\">\n",
       "<title>140258207830088</title>\n",
       "<polygon fill=\"none\" stroke=\"#000000\" points=\"46.5,-73.5 46.5,-109.5 171.5,-109.5 171.5,-73.5 46.5,-73.5\"/>\n",
       "<text text-anchor=\"middle\" x=\"109\" y=\"-87.8\" font-family=\"Times,serif\" font-size=\"14.00\" fill=\"#000000\">input_1: InputLayer</text>\n",
       "</g>\n",
       "<!-- 140256643357048 -->\n",
       "<g id=\"node2\" class=\"node\">\n",
       "<title>140256643357048</title>\n",
       "<polygon fill=\"none\" stroke=\"#000000\" points=\"0,-.5 0,-36.5 218,-36.5 218,-.5 0,-.5\"/>\n",
       "<text text-anchor=\"middle\" x=\"109\" y=\"-14.8\" font-family=\"Times,serif\" font-size=\"14.00\" fill=\"#000000\">entity_embeding_1: EntityEmbeding</text>\n",
       "</g>\n",
       "<!-- 140258207830088&#45;&gt;140256643357048 -->\n",
       "<g id=\"edge1\" class=\"edge\">\n",
       "<title>140258207830088&#45;&gt;140256643357048</title>\n",
       "<path fill=\"none\" stroke=\"#000000\" d=\"M109,-73.4551C109,-65.3828 109,-55.6764 109,-46.6817\"/>\n",
       "<polygon fill=\"#000000\" stroke=\"#000000\" points=\"112.5001,-46.5903 109,-36.5904 105.5001,-46.5904 112.5001,-46.5903\"/>\n",
       "</g>\n",
       "</g>\n",
       "</svg>\n"
      ],
      "text/plain": [
       "<snn.utils.Graph at 0x7f900b5732b0>"
      ]
     },
     "execution_count": 14,
     "metadata": {},
     "output_type": "execute_result"
    }
   ],
   "source": [
    "draw(emb_m)"
   ]
  },
  {
   "cell_type": "code",
   "execution_count": 15,
   "metadata": {},
   "outputs": [
    {
     "name": "stdout",
     "output_type": "stream",
     "text": [
      "100000/100000 [==============================] - 74s 738us/step\n"
     ]
    }
   ],
   "source": [
    "Xte = emb_m.predict(Xt, verbose=1)"
   ]
  },
  {
   "cell_type": "markdown",
   "metadata": {},
   "source": [
    "## Entrnando la snn completa"
   ]
  },
  {
   "cell_type": "code",
   "execution_count": 16,
   "metadata": {},
   "outputs": [],
   "source": [
    "from keras.layers import Input"
   ]
  },
  {
   "cell_type": "code",
   "execution_count": 17,
   "metadata": {},
   "outputs": [],
   "source": [
    "x = Input(shape=(emb_m.output_shape[1],), sparse=True)\n",
    "snn = SNN(entities=entities, relations=relations.values(), entity_shape=32, relation_shape=64)\n",
    "output = snn(x)"
   ]
  },
  {
   "cell_type": "code",
   "execution_count": 18,
   "metadata": {},
   "outputs": [],
   "source": [
    "snn_model = snn.build(x)"
   ]
  },
  {
   "cell_type": "code",
   "execution_count": 19,
   "metadata": {},
   "outputs": [
    {
     "data": {
      "image/svg+xml": [
       "<?xml version=\"1.0\" encoding=\"UTF-8\" standalone=\"no\"?>\n",
       "<!DOCTYPE svg PUBLIC \"-//W3C//DTD SVG 1.1//EN\"\n",
       " \"http://www.w3.org/Graphics/SVG/1.1/DTD/svg11.dtd\">\n",
       "<!-- Generated by graphviz version 2.40.1 (20161225.0304)\n",
       " -->\n",
       "<!-- Title: G Pages: 1 -->\n",
       "<svg width=\"2109pt\" height=\"337pt\"\n",
       " viewBox=\"0.00 0.00 2108.50 337.00\" xmlns=\"http://www.w3.org/2000/svg\" xmlns:xlink=\"http://www.w3.org/1999/xlink\">\n",
       "<g id=\"graph0\" class=\"graph\" transform=\"scale(1 1) rotate(0) translate(4 333)\">\n",
       "<title>G</title>\n",
       "<polygon fill=\"#ffffff\" stroke=\"transparent\" points=\"-4,4 -4,-333 2104.5,-333 2104.5,4 -4,4\"/>\n",
       "<!-- 140256666173904 -->\n",
       "<g id=\"node1\" class=\"node\">\n",
       "<title>140256666173904</title>\n",
       "<polygon fill=\"none\" stroke=\"#000000\" points=\"1007,-292.5 1007,-328.5 1132,-328.5 1132,-292.5 1007,-292.5\"/>\n",
       "<text text-anchor=\"middle\" x=\"1069.5\" y=\"-306.8\" font-family=\"Times,serif\" font-size=\"14.00\" fill=\"#000000\">input_2: InputLayer</text>\n",
       "</g>\n",
       "<!-- 140256644275056 -->\n",
       "<g id=\"node2\" class=\"node\">\n",
       "<title>140256644275056</title>\n",
       "<polygon fill=\"none\" stroke=\"#000000\" points=\"936,-219.5 936,-255.5 1061,-255.5 1061,-219.5 936,-219.5\"/>\n",
       "<text text-anchor=\"middle\" x=\"998.5\" y=\"-233.8\" font-family=\"Times,serif\" font-size=\"14.00\" fill=\"#000000\">Person: EntityLayer</text>\n",
       "</g>\n",
       "<!-- 140256666173904&#45;&gt;140256644275056 -->\n",
       "<g id=\"edge1\" class=\"edge\">\n",
       "<title>140256666173904&#45;&gt;140256644275056</title>\n",
       "<path fill=\"none\" stroke=\"#000000\" d=\"M1051.9494,-292.4551C1043.245,-283.5054 1032.5868,-272.547 1023.0844,-262.7769\"/>\n",
       "<polygon fill=\"#000000\" stroke=\"#000000\" points=\"1025.576,-260.3187 1016.0947,-255.5904 1020.5579,-265.1992 1025.576,-260.3187\"/>\n",
       "</g>\n",
       "<!-- 140256644275784 -->\n",
       "<g id=\"node3\" class=\"node\">\n",
       "<title>140256644275784</title>\n",
       "<polygon fill=\"none\" stroke=\"#000000\" points=\"1089,-219.5 1089,-255.5 1214,-255.5 1214,-219.5 1089,-219.5\"/>\n",
       "<text text-anchor=\"middle\" x=\"1151.5\" y=\"-233.8\" font-family=\"Times,serif\" font-size=\"14.00\" fill=\"#000000\">Movie: EntityLayer</text>\n",
       "</g>\n",
       "<!-- 140256666173904&#45;&gt;140256644275784 -->\n",
       "<g id=\"edge2\" class=\"edge\">\n",
       "<title>140256666173904&#45;&gt;140256644275784</title>\n",
       "<path fill=\"none\" stroke=\"#000000\" d=\"M1089.7697,-292.4551C1099.9212,-283.4177 1112.3738,-272.3319 1123.4291,-262.4899\"/>\n",
       "<polygon fill=\"#000000\" stroke=\"#000000\" points=\"1126.0375,-264.8539 1131.1793,-255.5904 1121.383,-259.6255 1126.0375,-264.8539\"/>\n",
       "</g>\n",
       "<!-- 140256644274160 -->\n",
       "<g id=\"node4\" class=\"node\">\n",
       "<title>140256644274160</title>\n",
       "<polygon fill=\"none\" stroke=\"#000000\" points=\"1091,-146.5 1091,-182.5 1234,-182.5 1234,-146.5 1091,-146.5\"/>\n",
       "<text text-anchor=\"middle\" x=\"1162.5\" y=\"-160.8\" font-family=\"Times,serif\" font-size=\"14.00\" fill=\"#000000\">director: RelationLayer</text>\n",
       "</g>\n",
       "<!-- 140256644275056&#45;&gt;140256644274160 -->\n",
       "<g id=\"edge4\" class=\"edge\">\n",
       "<title>140256644275056&#45;&gt;140256644274160</title>\n",
       "<path fill=\"none\" stroke=\"#000000\" d=\"M1039.0393,-219.4551C1061.3137,-209.5403 1089.1268,-197.16 1112.7125,-186.6615\"/>\n",
       "<polygon fill=\"#000000\" stroke=\"#000000\" points=\"1114.1461,-189.8545 1121.8586,-182.5904 1111.2995,-183.4594 1114.1461,-189.8545\"/>\n",
       "</g>\n",
       "<!-- 140256643569536 -->\n",
       "<g id=\"node5\" class=\"node\">\n",
       "<title>140256643569536</title>\n",
       "<polygon fill=\"none\" stroke=\"#000000\" points=\"1252,-146.5 1252,-182.5 1445,-182.5 1445,-146.5 1252,-146.5\"/>\n",
       "<text text-anchor=\"middle\" x=\"1348.5\" y=\"-160.8\" font-family=\"Times,serif\" font-size=\"14.00\" fill=\"#000000\">cinematographer: RelationLayer</text>\n",
       "</g>\n",
       "<!-- 140256644275056&#45;&gt;140256643569536 -->\n",
       "<g id=\"edge6\" class=\"edge\">\n",
       "<title>140256644275056&#45;&gt;140256643569536</title>\n",
       "<path fill=\"none\" stroke=\"#000000\" d=\"M1061.2591,-223.0056C1067.4182,-221.6314 1073.5776,-220.2761 1079.5,-219 1134.6333,-207.1207 1196.2871,-194.5761 1246.6467,-184.5207\"/>\n",
       "<polygon fill=\"#000000\" stroke=\"#000000\" points=\"1247.4401,-187.9315 1256.5628,-182.5438 1246.0714,-181.0666 1247.4401,-187.9315\"/>\n",
       "</g>\n",
       "<!-- 140256589321776 -->\n",
       "<g id=\"node6\" class=\"node\">\n",
       "<title>140256589321776</title>\n",
       "<polygon fill=\"none\" stroke=\"#000000\" points=\"1463,-146.5 1463,-182.5 1618,-182.5 1618,-146.5 1463,-146.5\"/>\n",
       "<text text-anchor=\"middle\" x=\"1540.5\" y=\"-160.8\" font-family=\"Times,serif\" font-size=\"14.00\" fill=\"#000000\">composer: RelationLayer</text>\n",
       "</g>\n",
       "<!-- 140256644275056&#45;&gt;140256589321776 -->\n",
       "<g id=\"edge8\" class=\"edge\">\n",
       "<title>140256644275056&#45;&gt;140256589321776</title>\n",
       "<path fill=\"none\" stroke=\"#000000\" d=\"M1061.1369,-222.3571C1067.3208,-221.1142 1073.5193,-219.9667 1079.5,-219 1241.1311,-192.8742 1286.6848,-207.7966 1452.7244,-183.0101\"/>\n",
       "<polygon fill=\"#000000\" stroke=\"#000000\" points=\"1453.4314,-186.4429 1462.7924,-181.4809 1452.3802,-179.5223 1453.4314,-186.4429\"/>\n",
       "</g>\n",
       "<!-- 140256602751888 -->\n",
       "<g id=\"node7\" class=\"node\">\n",
       "<title>140256602751888</title>\n",
       "<polygon fill=\"none\" stroke=\"#000000\" points=\"1636,-146.5 1636,-182.5 1785,-182.5 1785,-146.5 1636,-146.5\"/>\n",
       "<text text-anchor=\"middle\" x=\"1710.5\" y=\"-160.8\" font-family=\"Times,serif\" font-size=\"14.00\" fill=\"#000000\">producer: RelationLayer</text>\n",
       "</g>\n",
       "<!-- 140256644275056&#45;&gt;140256602751888 -->\n",
       "<g id=\"edge10\" class=\"edge\">\n",
       "<title>140256644275056&#45;&gt;140256602751888</title>\n",
       "<path fill=\"none\" stroke=\"#000000\" d=\"M1061.1077,-222.1673C1067.2975,-220.9628 1073.5054,-219.8762 1079.5,-219 1317.2797,-184.2464 1383.4868,-216.3949 1625.7739,-182.9595\"/>\n",
       "<polygon fill=\"#000000\" stroke=\"#000000\" points=\"1626.5352,-186.387 1635.9516,-181.5309 1625.5621,-179.455 1626.5352,-186.387\"/>\n",
       "</g>\n",
       "<!-- 140256576999552 -->\n",
       "<g id=\"node8\" class=\"node\">\n",
       "<title>140256576999552</title>\n",
       "<polygon fill=\"none\" stroke=\"#000000\" points=\"1803,-146.5 1803,-182.5 1936,-182.5 1936,-146.5 1803,-146.5\"/>\n",
       "<text text-anchor=\"middle\" x=\"1869.5\" y=\"-160.8\" font-family=\"Times,serif\" font-size=\"14.00\" fill=\"#000000\">editor: RelationLayer</text>\n",
       "</g>\n",
       "<!-- 140256644275056&#45;&gt;140256576999552 -->\n",
       "<g id=\"edge12\" class=\"edge\">\n",
       "<title>140256644275056&#45;&gt;140256576999552</title>\n",
       "<path fill=\"none\" stroke=\"#000000\" d=\"M1061.0939,-222.0708C1067.2865,-220.8859 1073.4988,-219.8302 1079.5,-219 1390.8583,-175.9289 1477.2293,-227.6433 1792.5573,-182.9508\"/>\n",
       "<polygon fill=\"#000000\" stroke=\"#000000\" points=\"1793.5118,-186.3496 1802.9112,-181.4605 1792.5145,-179.421 1793.5118,-186.3496\"/>\n",
       "</g>\n",
       "<!-- 140256170337560 -->\n",
       "<g id=\"node9\" class=\"node\">\n",
       "<title>140256170337560</title>\n",
       "<polygon fill=\"none\" stroke=\"#000000\" points=\"200.5,-146.5 200.5,-182.5 328.5,-182.5 328.5,-146.5 200.5,-146.5\"/>\n",
       "<text text-anchor=\"middle\" x=\"264.5\" y=\"-160.8\" font-family=\"Times,serif\" font-size=\"14.00\" fill=\"#000000\">actor: RelationLayer</text>\n",
       "</g>\n",
       "<!-- 140256644275056&#45;&gt;140256170337560 -->\n",
       "<g id=\"edge14\" class=\"edge\">\n",
       "<title>140256644275056&#45;&gt;140256170337560</title>\n",
       "<path fill=\"none\" stroke=\"#000000\" d=\"M935.6461,-235.787C819.3915,-231.8639 562.9418,-219.6804 338.8366,-183.0765\"/>\n",
       "<polygon fill=\"#000000\" stroke=\"#000000\" points=\"339.3009,-179.6058 328.8639,-181.4278 338.159,-186.5121 339.3009,-179.6058\"/>\n",
       "</g>\n",
       "<!-- 140256169892776 -->\n",
       "<g id=\"node10\" class=\"node\">\n",
       "<title>140256169892776</title>\n",
       "<polygon fill=\"none\" stroke=\"#000000\" points=\"346.5,-146.5 346.5,-182.5 484.5,-182.5 484.5,-146.5 346.5,-146.5\"/>\n",
       "<text text-anchor=\"middle\" x=\"415.5\" y=\"-160.8\" font-family=\"Times,serif\" font-size=\"14.00\" fill=\"#000000\">actress: RelationLayer</text>\n",
       "</g>\n",
       "<!-- 140256644275056&#45;&gt;140256169892776 -->\n",
       "<g id=\"edge16\" class=\"edge\">\n",
       "<title>140256644275056&#45;&gt;140256169892776</title>\n",
       "<path fill=\"none\" stroke=\"#000000\" d=\"M935.9554,-233.285C842.1514,-226.4051 659.3668,-210.8383 495.027,-183.1507\"/>\n",
       "<polygon fill=\"#000000\" stroke=\"#000000\" points=\"495.1757,-179.6256 484.7298,-181.3956 493.9995,-186.5261 495.1757,-179.6256\"/>\n",
       "</g>\n",
       "<!-- 140256575999840 -->\n",
       "<g id=\"node11\" class=\"node\">\n",
       "<title>140256575999840</title>\n",
       "<polygon fill=\"none\" stroke=\"#000000\" points=\"502.5,-146.5 502.5,-182.5 636.5,-182.5 636.5,-146.5 502.5,-146.5\"/>\n",
       "<text text-anchor=\"middle\" x=\"569.5\" y=\"-160.8\" font-family=\"Times,serif\" font-size=\"14.00\" fill=\"#000000\">writer: RelationLayer</text>\n",
       "</g>\n",
       "<!-- 140256644275056&#45;&gt;140256575999840 -->\n",
       "<g id=\"edge18\" class=\"edge\">\n",
       "<title>140256644275056&#45;&gt;140256575999840</title>\n",
       "<path fill=\"none\" stroke=\"#000000\" d=\"M935.7262,-229.4607C867.0627,-220.2958 753.5957,-204.0651 646.5707,-183.1298\"/>\n",
       "<polygon fill=\"#000000\" stroke=\"#000000\" points=\"647.0561,-179.6582 636.5676,-181.1554 645.7006,-186.5257 647.0561,-179.6582\"/>\n",
       "</g>\n",
       "<!-- 140256580025928 -->\n",
       "<g id=\"node12\" class=\"node\">\n",
       "<title>140256580025928</title>\n",
       "<polygon fill=\"none\" stroke=\"#000000\" points=\"654.5,-146.5 654.5,-182.5 866.5,-182.5 866.5,-146.5 654.5,-146.5\"/>\n",
       "<text text-anchor=\"middle\" x=\"760.5\" y=\"-160.8\" font-family=\"Times,serif\" font-size=\"14.00\" fill=\"#000000\">production_designer: RelationLayer</text>\n",
       "</g>\n",
       "<!-- 140256644275056&#45;&gt;140256580025928 -->\n",
       "<g id=\"edge20\" class=\"edge\">\n",
       "<title>140256644275056&#45;&gt;140256580025928</title>\n",
       "<path fill=\"none\" stroke=\"#000000\" d=\"M939.6685,-219.4551C906.1994,-209.1893 864.113,-196.2804 829.1415,-185.5539\"/>\n",
       "<polygon fill=\"#000000\" stroke=\"#000000\" points=\"830.0663,-182.1767 819.4795,-182.5904 828.0136,-188.869 830.0663,-182.1767\"/>\n",
       "</g>\n",
       "<!-- 140256582402344 -->\n",
       "<g id=\"node13\" class=\"node\">\n",
       "<title>140256582402344</title>\n",
       "<polygon fill=\"none\" stroke=\"#000000\" points=\"884.5,-146.5 884.5,-182.5 1072.5,-182.5 1072.5,-146.5 884.5,-146.5\"/>\n",
       "<text text-anchor=\"middle\" x=\"978.5\" y=\"-160.8\" font-family=\"Times,serif\" font-size=\"14.00\" fill=\"#000000\">archive_footage: RelationLayer</text>\n",
       "</g>\n",
       "<!-- 140256644275056&#45;&gt;140256582402344 -->\n",
       "<g id=\"edge22\" class=\"edge\">\n",
       "<title>140256644275056&#45;&gt;140256582402344</title>\n",
       "<path fill=\"none\" stroke=\"#000000\" d=\"M993.5562,-219.4551C991.3206,-211.2951 988.6274,-201.4652 986.1407,-192.3887\"/>\n",
       "<polygon fill=\"#000000\" stroke=\"#000000\" points=\"989.4743,-191.3101 983.4563,-182.5904 982.7231,-193.1598 989.4743,-191.3101\"/>\n",
       "</g>\n",
       "<!-- 140256577000168 -->\n",
       "<g id=\"node14\" class=\"node\">\n",
       "<title>140256577000168</title>\n",
       "<polygon fill=\"none\" stroke=\"#000000\" points=\"0,-73.5 0,-109.5 147,-109.5 147,-73.5 0,-73.5\"/>\n",
       "<text text-anchor=\"middle\" x=\"73.5\" y=\"-87.8\" font-family=\"Times,serif\" font-size=\"14.00\" fill=\"#000000\">indicator&#45;Person: Dense</text>\n",
       "</g>\n",
       "<!-- 140256644275056&#45;&gt;140256577000168 -->\n",
       "<g id=\"edge23\" class=\"edge\">\n",
       "<title>140256644275056&#45;&gt;140256577000168</title>\n",
       "<path fill=\"none\" stroke=\"#000000\" d=\"M935.7362,-235.3698C758.116,-229.0463 260.323,-209.1808 191.5,-183 154.4373,-168.9011 119.5365,-138.9827 97.4465,-117.1835\"/>\n",
       "<polygon fill=\"#000000\" stroke=\"#000000\" points=\"99.7083,-114.4934 90.1848,-109.8507 94.7345,-119.419 99.7083,-114.4934\"/>\n",
       "</g>\n",
       "<!-- 140256644275784&#45;&gt;140256644274160 -->\n",
       "<g id=\"edge3\" class=\"edge\">\n",
       "<title>140256644275784&#45;&gt;140256644274160</title>\n",
       "<path fill=\"none\" stroke=\"#000000\" d=\"M1154.2191,-219.4551C1155.4355,-211.3828 1156.8981,-201.6764 1158.2534,-192.6817\"/>\n",
       "<polygon fill=\"#000000\" stroke=\"#000000\" points=\"1161.7449,-193.0003 1159.7741,-182.5904 1154.823,-191.9572 1161.7449,-193.0003\"/>\n",
       "</g>\n",
       "<!-- 140256644275784&#45;&gt;140256643569536 -->\n",
       "<g id=\"edge5\" class=\"edge\">\n",
       "<title>140256644275784&#45;&gt;140256643569536</title>\n",
       "<path fill=\"none\" stroke=\"#000000\" d=\"M1200.1966,-219.4551C1227.4265,-209.3648 1261.5474,-196.721 1290.1937,-186.1059\"/>\n",
       "<polygon fill=\"#000000\" stroke=\"#000000\" points=\"1291.5201,-189.347 1299.6808,-182.5904 1289.0877,-182.7832 1291.5201,-189.347\"/>\n",
       "</g>\n",
       "<!-- 140256644275784&#45;&gt;140256589321776 -->\n",
       "<g id=\"edge7\" class=\"edge\">\n",
       "<title>140256644275784&#45;&gt;140256589321776</title>\n",
       "<path fill=\"none\" stroke=\"#000000\" d=\"M1214.0727,-226.7904C1273.0128,-216.5702 1364.032,-200.4481 1452.7683,-183.1148\"/>\n",
       "<polygon fill=\"#000000\" stroke=\"#000000\" points=\"1453.5965,-186.5192 1462.7363,-181.1607 1452.2497,-179.65 1453.5965,-186.5192\"/>\n",
       "</g>\n",
       "<!-- 140256644275784&#45;&gt;140256602751888 -->\n",
       "<g id=\"edge9\" class=\"edge\">\n",
       "<title>140256644275784&#45;&gt;140256602751888</title>\n",
       "<path fill=\"none\" stroke=\"#000000\" d=\"M1214.0295,-232.3845C1303.1809,-224.6356 1472.0844,-208.2703 1625.8189,-183.0171\"/>\n",
       "<polygon fill=\"#000000\" stroke=\"#000000\" points=\"1626.6299,-186.4305 1635.9222,-181.3409 1625.4842,-179.5249 1626.6299,-186.4305\"/>\n",
       "</g>\n",
       "<!-- 140256644275784&#45;&gt;140256576999552 -->\n",
       "<g id=\"edge11\" class=\"edge\">\n",
       "<title>140256644275784&#45;&gt;140256576999552</title>\n",
       "<path fill=\"none\" stroke=\"#000000\" d=\"M1214.3194,-235.3795C1327.9652,-230.8431 1575.2794,-217.7629 1792.8794,-182.9496\"/>\n",
       "<polygon fill=\"#000000\" stroke=\"#000000\" points=\"1793.5787,-186.382 1802.8908,-181.3289 1792.46,-179.472 1793.5787,-186.382\"/>\n",
       "</g>\n",
       "<!-- 140256644275784&#45;&gt;140256170337560 -->\n",
       "<g id=\"edge13\" class=\"edge\">\n",
       "<title>140256644275784&#45;&gt;140256170337560</title>\n",
       "<path fill=\"none\" stroke=\"#000000\" d=\"M1088.5767,-222.1513C1082.1604,-220.9328 1075.7179,-219.8478 1069.5,-219 750.0692,-175.4445 661.445,-230.1045 338.9445,-183.0414\"/>\n",
       "<polygon fill=\"#000000\" stroke=\"#000000\" points=\"339.2501,-179.5486 328.8452,-181.5457 338.2245,-186.473 339.2501,-179.5486\"/>\n",
       "</g>\n",
       "<!-- 140256644275784&#45;&gt;140256169892776 -->\n",
       "<g id=\"edge15\" class=\"edge\">\n",
       "<title>140256644275784&#45;&gt;140256169892776</title>\n",
       "<path fill=\"none\" stroke=\"#000000\" d=\"M1088.5648,-222.237C1082.1508,-221.0014 1075.7121,-219.8891 1069.5,-219 818.8114,-183.1209 748.9749,-219.7793 494.6081,-183.015\"/>\n",
       "<polygon fill=\"#000000\" stroke=\"#000000\" points=\"495.106,-179.5506 484.7034,-181.56 494.0886,-186.4763 495.106,-179.5506\"/>\n",
       "</g>\n",
       "<!-- 140256644275784&#45;&gt;140256575999840 -->\n",
       "<g id=\"edge17\" class=\"edge\">\n",
       "<title>140256644275784&#45;&gt;140256575999840</title>\n",
       "<path fill=\"none\" stroke=\"#000000\" d=\"M1088.9905,-222.469C1082.433,-221.1705 1075.846,-219.9805 1069.5,-219 885.7896,-190.6147 833.9181,-212.6731 646.4262,-183.0028\"/>\n",
       "<polygon fill=\"#000000\" stroke=\"#000000\" points=\"646.9513,-179.5423 636.522,-181.4077 645.8382,-186.4533 646.9513,-179.5423\"/>\n",
       "</g>\n",
       "<!-- 140256644275784&#45;&gt;140256580025928 -->\n",
       "<g id=\"edge19\" class=\"edge\">\n",
       "<title>140256644275784&#45;&gt;140256580025928</title>\n",
       "<path fill=\"none\" stroke=\"#000000\" d=\"M1088.8867,-223.0535C1082.3494,-221.641 1075.7956,-220.2646 1069.5,-219 1005.8873,-206.2218 934.5774,-193.5362 876.5037,-183.6233\"/>\n",
       "<polygon fill=\"#000000\" stroke=\"#000000\" points=\"877.0072,-180.1587 866.5617,-181.9312 875.8327,-187.0595 877.0072,-180.1587\"/>\n",
       "</g>\n",
       "<!-- 140256644275784&#45;&gt;140256582402344 -->\n",
       "<g id=\"edge21\" class=\"edge\">\n",
       "<title>140256644275784&#45;&gt;140256582402344</title>\n",
       "<path fill=\"none\" stroke=\"#000000\" d=\"M1108.7359,-219.4551C1085.1353,-209.4964 1055.64,-197.0504 1030.6898,-186.5223\"/>\n",
       "<polygon fill=\"#000000\" stroke=\"#000000\" points=\"1031.9457,-183.2535 1021.3717,-182.5904 1029.2243,-189.7028 1031.9457,-183.2535\"/>\n",
       "</g>\n",
       "<!-- 140256595437608 -->\n",
       "<g id=\"node15\" class=\"node\">\n",
       "<title>140256595437608</title>\n",
       "<polygon fill=\"none\" stroke=\"#000000\" points=\"1954.5,-146.5 1954.5,-182.5 2100.5,-182.5 2100.5,-146.5 1954.5,-146.5\"/>\n",
       "<text text-anchor=\"middle\" x=\"2027.5\" y=\"-160.8\" font-family=\"Times,serif\" font-size=\"14.00\" fill=\"#000000\">indicator&#45;Movie: Dense</text>\n",
       "</g>\n",
       "<!-- 140256644275784&#45;&gt;140256595437608 -->\n",
       "<g id=\"edge24\" class=\"edge\">\n",
       "<title>140256644275784&#45;&gt;140256595437608</title>\n",
       "<path fill=\"none\" stroke=\"#000000\" d=\"M1214.1255,-236.4602C1347.0466,-233.5488 1667.2001,-222.8048 1944.0432,-183.0878\"/>\n",
       "<polygon fill=\"#000000\" stroke=\"#000000\" points=\"1944.8926,-186.5014 1954.2866,-181.6021 1943.8877,-179.5738 1944.8926,-186.5014\"/>\n",
       "</g>\n",
       "<!-- 140256593004360 -->\n",
       "<g id=\"node16\" class=\"node\">\n",
       "<title>140256593004360</title>\n",
       "<polygon fill=\"none\" stroke=\"#000000\" points=\"1100.5,-73.5 1100.5,-109.5 1252.5,-109.5 1252.5,-73.5 1100.5,-73.5\"/>\n",
       "<text text-anchor=\"middle\" x=\"1176.5\" y=\"-87.8\" font-family=\"Times,serif\" font-size=\"14.00\" fill=\"#000000\">indicator&#45;director: Dense</text>\n",
       "</g>\n",
       "<!-- 140256644274160&#45;&gt;140256593004360 -->\n",
       "<g id=\"edge25\" class=\"edge\">\n",
       "<title>140256644274160&#45;&gt;140256593004360</title>\n",
       "<path fill=\"none\" stroke=\"#000000\" d=\"M1165.9607,-146.4551C1167.5088,-138.3828 1169.3703,-128.6764 1171.0953,-119.6817\"/>\n",
       "<polygon fill=\"#000000\" stroke=\"#000000\" points=\"1174.5844,-120.0706 1173.0306,-109.5904 1167.7097,-118.7521 1174.5844,-120.0706\"/>\n",
       "</g>\n",
       "<!-- 140256603718824 -->\n",
       "<g id=\"node17\" class=\"node\">\n",
       "<title>140256603718824</title>\n",
       "<polygon fill=\"none\" stroke=\"#000000\" points=\"1270.5,-73.5 1270.5,-109.5 1472.5,-109.5 1472.5,-73.5 1270.5,-73.5\"/>\n",
       "<text text-anchor=\"middle\" x=\"1371.5\" y=\"-87.8\" font-family=\"Times,serif\" font-size=\"14.00\" fill=\"#000000\">indicator&#45;cinematographer: Dense</text>\n",
       "</g>\n",
       "<!-- 140256643569536&#45;&gt;140256603718824 -->\n",
       "<g id=\"edge26\" class=\"edge\">\n",
       "<title>140256643569536&#45;&gt;140256603718824</title>\n",
       "<path fill=\"none\" stroke=\"#000000\" d=\"M1354.1854,-146.4551C1356.7563,-138.2951 1359.8534,-128.4652 1362.7132,-119.3887\"/>\n",
       "<polygon fill=\"#000000\" stroke=\"#000000\" points=\"1366.1334,-120.18 1365.8003,-109.5904 1359.4569,-118.0764 1366.1334,-120.18\"/>\n",
       "</g>\n",
       "<!-- 140256606507584 -->\n",
       "<g id=\"node18\" class=\"node\">\n",
       "<title>140256606507584</title>\n",
       "<polygon fill=\"none\" stroke=\"#000000\" points=\"1490.5,-73.5 1490.5,-109.5 1654.5,-109.5 1654.5,-73.5 1490.5,-73.5\"/>\n",
       "<text text-anchor=\"middle\" x=\"1572.5\" y=\"-87.8\" font-family=\"Times,serif\" font-size=\"14.00\" fill=\"#000000\">indicator&#45;composer: Dense</text>\n",
       "</g>\n",
       "<!-- 140256589321776&#45;&gt;140256606507584 -->\n",
       "<g id=\"edge27\" class=\"edge\">\n",
       "<title>140256589321776&#45;&gt;140256606507584</title>\n",
       "<path fill=\"none\" stroke=\"#000000\" d=\"M1548.4101,-146.4551C1552.064,-138.1196 1556.4818,-128.0416 1560.531,-118.8042\"/>\n",
       "<polygon fill=\"#000000\" stroke=\"#000000\" points=\"1563.7607,-120.1542 1564.57,-109.5904 1557.3496,-117.3439 1563.7607,-120.1542\"/>\n",
       "</g>\n",
       "<!-- 140256606212896 -->\n",
       "<g id=\"node19\" class=\"node\">\n",
       "<title>140256606212896</title>\n",
       "<polygon fill=\"none\" stroke=\"#000000\" points=\"1672.5,-73.5 1672.5,-109.5 1830.5,-109.5 1830.5,-73.5 1672.5,-73.5\"/>\n",
       "<text text-anchor=\"middle\" x=\"1751.5\" y=\"-87.8\" font-family=\"Times,serif\" font-size=\"14.00\" fill=\"#000000\">indicator&#45;producer: Dense</text>\n",
       "</g>\n",
       "<!-- 140256602751888&#45;&gt;140256606212896 -->\n",
       "<g id=\"edge28\" class=\"edge\">\n",
       "<title>140256602751888&#45;&gt;140256606212896</title>\n",
       "<path fill=\"none\" stroke=\"#000000\" d=\"M1720.6348,-146.4551C1725.3657,-138.0319 1731.0959,-127.8292 1736.3285,-118.5128\"/>\n",
       "<polygon fill=\"#000000\" stroke=\"#000000\" points=\"1739.4943,-120.0233 1741.3397,-109.5904 1733.391,-116.5954 1739.4943,-120.0233\"/>\n",
       "</g>\n",
       "<!-- 140256607246152 -->\n",
       "<g id=\"node20\" class=\"node\">\n",
       "<title>140256607246152</title>\n",
       "<polygon fill=\"none\" stroke=\"#000000\" points=\"1848.5,-73.5 1848.5,-109.5 1990.5,-109.5 1990.5,-73.5 1848.5,-73.5\"/>\n",
       "<text text-anchor=\"middle\" x=\"1919.5\" y=\"-87.8\" font-family=\"Times,serif\" font-size=\"14.00\" fill=\"#000000\">indicator&#45;editor: Dense</text>\n",
       "</g>\n",
       "<!-- 140256576999552&#45;&gt;140256607246152 -->\n",
       "<g id=\"edge29\" class=\"edge\">\n",
       "<title>140256576999552&#45;&gt;140256607246152</title>\n",
       "<path fill=\"none\" stroke=\"#000000\" d=\"M1881.8596,-146.4551C1887.7491,-137.8564 1894.9087,-127.4034 1901.3961,-117.9316\"/>\n",
       "<polygon fill=\"#000000\" stroke=\"#000000\" points=\"1904.346,-119.8185 1907.1093,-109.5904 1898.5708,-115.8628 1904.346,-119.8185\"/>\n",
       "</g>\n",
       "<!-- 140256609000304 -->\n",
       "<g id=\"node21\" class=\"node\">\n",
       "<title>140256609000304</title>\n",
       "<polygon fill=\"none\" stroke=\"#000000\" points=\"165,-73.5 165,-109.5 302,-109.5 302,-73.5 165,-73.5\"/>\n",
       "<text text-anchor=\"middle\" x=\"233.5\" y=\"-87.8\" font-family=\"Times,serif\" font-size=\"14.00\" fill=\"#000000\">indicator&#45;actor: Dense</text>\n",
       "</g>\n",
       "<!-- 140256170337560&#45;&gt;140256609000304 -->\n",
       "<g id=\"edge30\" class=\"edge\">\n",
       "<title>140256170337560&#45;&gt;140256609000304</title>\n",
       "<path fill=\"none\" stroke=\"#000000\" d=\"M256.8371,-146.4551C253.2974,-138.1196 249.0177,-128.0416 245.0949,-118.8042\"/>\n",
       "<polygon fill=\"#000000\" stroke=\"#000000\" points=\"248.3126,-117.4267 241.1822,-109.5904 241.8694,-120.1629 248.3126,-117.4267\"/>\n",
       "</g>\n",
       "<!-- 140256610060440 -->\n",
       "<g id=\"node22\" class=\"node\">\n",
       "<title>140256610060440</title>\n",
       "<polygon fill=\"none\" stroke=\"#000000\" points=\"320,-73.5 320,-109.5 467,-109.5 467,-73.5 320,-73.5\"/>\n",
       "<text text-anchor=\"middle\" x=\"393.5\" y=\"-87.8\" font-family=\"Times,serif\" font-size=\"14.00\" fill=\"#000000\">indicator&#45;actress: Dense</text>\n",
       "</g>\n",
       "<!-- 140256169892776&#45;&gt;140256610060440 -->\n",
       "<g id=\"edge31\" class=\"edge\">\n",
       "<title>140256169892776&#45;&gt;140256610060440</title>\n",
       "<path fill=\"none\" stroke=\"#000000\" d=\"M410.0618,-146.4551C407.6026,-138.2951 404.6402,-128.4652 401.9048,-119.3887\"/>\n",
       "<polygon fill=\"#000000\" stroke=\"#000000\" points=\"405.1886,-118.1551 398.9519,-109.5904 398.4863,-120.175 405.1886,-118.1551\"/>\n",
       "</g>\n",
       "<!-- 140256608794496 -->\n",
       "<g id=\"node23\" class=\"node\">\n",
       "<title>140256608794496</title>\n",
       "<polygon fill=\"none\" stroke=\"#000000\" points=\"485,-73.5 485,-109.5 628,-109.5 628,-73.5 485,-73.5\"/>\n",
       "<text text-anchor=\"middle\" x=\"556.5\" y=\"-87.8\" font-family=\"Times,serif\" font-size=\"14.00\" fill=\"#000000\">indicator&#45;writer: Dense</text>\n",
       "</g>\n",
       "<!-- 140256575999840&#45;&gt;140256608794496 -->\n",
       "<g id=\"edge32\" class=\"edge\">\n",
       "<title>140256575999840&#45;&gt;140256608794496</title>\n",
       "<path fill=\"none\" stroke=\"#000000\" d=\"M566.2865,-146.4551C564.849,-138.3828 563.1205,-128.6764 561.5187,-119.6817\"/>\n",
       "<polygon fill=\"#000000\" stroke=\"#000000\" points=\"564.9207,-118.8218 559.7216,-109.5904 558.0291,-120.0491 564.9207,-118.8218\"/>\n",
       "</g>\n",
       "<!-- 140256606342168 -->\n",
       "<g id=\"node24\" class=\"node\">\n",
       "<title>140256606342168</title>\n",
       "<polygon fill=\"none\" stroke=\"#000000\" points=\"646,-73.5 646,-109.5 867,-109.5 867,-73.5 646,-73.5\"/>\n",
       "<text text-anchor=\"middle\" x=\"756.5\" y=\"-87.8\" font-family=\"Times,serif\" font-size=\"14.00\" fill=\"#000000\">indicator&#45;production_designer: Dense</text>\n",
       "</g>\n",
       "<!-- 140256580025928&#45;&gt;140256606342168 -->\n",
       "<g id=\"edge33\" class=\"edge\">\n",
       "<title>140256580025928&#45;&gt;140256606342168</title>\n",
       "<path fill=\"none\" stroke=\"#000000\" d=\"M759.5112,-146.4551C759.0689,-138.3828 758.5371,-128.6764 758.0442,-119.6817\"/>\n",
       "<polygon fill=\"#000000\" stroke=\"#000000\" points=\"761.5332,-119.3839 757.4913,-109.5904 754.5437,-119.7669 761.5332,-119.3839\"/>\n",
       "</g>\n",
       "<!-- 140256603630784 -->\n",
       "<g id=\"node25\" class=\"node\">\n",
       "<title>140256603630784</title>\n",
       "<polygon fill=\"none\" stroke=\"#000000\" points=\"885,-73.5 885,-109.5 1082,-109.5 1082,-73.5 885,-73.5\"/>\n",
       "<text text-anchor=\"middle\" x=\"983.5\" y=\"-87.8\" font-family=\"Times,serif\" font-size=\"14.00\" fill=\"#000000\">indicator&#45;archive_footage: Dense</text>\n",
       "</g>\n",
       "<!-- 140256582402344&#45;&gt;140256603630784 -->\n",
       "<g id=\"edge34\" class=\"edge\">\n",
       "<title>140256582402344&#45;&gt;140256603630784</title>\n",
       "<path fill=\"none\" stroke=\"#000000\" d=\"M979.736,-146.4551C980.2888,-138.3828 980.9537,-128.6764 981.5697,-119.6817\"/>\n",
       "<polygon fill=\"#000000\" stroke=\"#000000\" points=\"985.0693,-119.8062 982.2609,-109.5904 978.0857,-119.3278 985.0693,-119.8062\"/>\n",
       "</g>\n",
       "<!-- 140256595915272 -->\n",
       "<g id=\"node26\" class=\"node\">\n",
       "<title>140256595915272</title>\n",
       "<polygon fill=\"none\" stroke=\"#000000\" points=\"1007,-.5 1007,-36.5 1152,-36.5 1152,-.5 1007,-.5\"/>\n",
       "<text text-anchor=\"middle\" x=\"1079.5\" y=\"-14.8\" font-family=\"Times,serif\" font-size=\"14.00\" fill=\"#000000\">Indicators: Concatenate</text>\n",
       "</g>\n",
       "<!-- 140256577000168&#45;&gt;140256595915272 -->\n",
       "<g id=\"edge35\" class=\"edge\">\n",
       "<title>140256577000168&#45;&gt;140256595915272</title>\n",
       "<path fill=\"none\" stroke=\"#000000\" d=\"M147.1526,-74.2883C149.9647,-73.8204 152.7544,-73.388 155.5,-73 316.7021,-50.2166 801.5839,-29.3565 996.77,-21.6483\"/>\n",
       "<polygon fill=\"#000000\" stroke=\"#000000\" points=\"997.1108,-25.1377 1006.9654,-21.2473 996.8356,-18.1432 997.1108,-25.1377\"/>\n",
       "</g>\n",
       "<!-- 140256595437608&#45;&gt;140256595915272 -->\n",
       "<g id=\"edge36\" class=\"edge\">\n",
       "<title>140256595437608&#45;&gt;140256595915272</title>\n",
       "<path fill=\"none\" stroke=\"#000000\" d=\"M2027.6585,-146.3707C2026.7613,-125.0805 2021.6974,-90.4599 1999.5,-73 1966.8684,-47.3328 1382.2622,-27.4572 1162.2843,-20.8569\"/>\n",
       "<polygon fill=\"#000000\" stroke=\"#000000\" points=\"1162.1884,-17.3525 1152.0884,-20.5526 1161.9796,-24.3494 1162.1884,-17.3525\"/>\n",
       "</g>\n",
       "<!-- 140256593004360&#45;&gt;140256595915272 -->\n",
       "<g id=\"edge37\" class=\"edge\">\n",
       "<title>140256593004360&#45;&gt;140256595915272</title>\n",
       "<path fill=\"none\" stroke=\"#000000\" d=\"M1152.5225,-73.4551C1140.1641,-64.1545 1124.9231,-52.6844 1111.5674,-42.6332\"/>\n",
       "<polygon fill=\"#000000\" stroke=\"#000000\" points=\"1113.6326,-39.807 1103.5379,-36.5904 1109.4234,-45.4001 1113.6326,-39.807\"/>\n",
       "</g>\n",
       "<!-- 140256603718824&#45;&gt;140256595915272 -->\n",
       "<g id=\"edge38\" class=\"edge\">\n",
       "<title>140256603718824&#45;&gt;140256595915272</title>\n",
       "<path fill=\"none\" stroke=\"#000000\" d=\"M1299.3202,-73.4551C1257.5647,-63.0162 1204.8771,-49.8443 1161.5523,-39.0131\"/>\n",
       "<polygon fill=\"#000000\" stroke=\"#000000\" points=\"1162.1584,-35.5569 1151.6081,-36.527 1160.4606,-42.3479 1162.1584,-35.5569\"/>\n",
       "</g>\n",
       "<!-- 140256606507584&#45;&gt;140256595915272 -->\n",
       "<g id=\"edge39\" class=\"edge\">\n",
       "<title>140256606507584&#45;&gt;140256595915272</title>\n",
       "<path fill=\"none\" stroke=\"#000000\" d=\"M1490.2055,-74.5172C1487.27,-73.9919 1484.3612,-73.4843 1481.5,-73 1371.6193,-54.4032 1243.9913,-37.9743 1162.534,-28.1381\"/>\n",
       "<polygon fill=\"#000000\" stroke=\"#000000\" points=\"1162.687,-24.6314 1152.3406,-26.9126 1161.8513,-31.5813 1162.687,-24.6314\"/>\n",
       "</g>\n",
       "<!-- 140256606212896&#45;&gt;140256595915272 -->\n",
       "<g id=\"edge40\" class=\"edge\">\n",
       "<title>140256606212896&#45;&gt;140256595915272</title>\n",
       "<path fill=\"none\" stroke=\"#000000\" d=\"M1672.4233,-74.4313C1669.4151,-73.9234 1666.4329,-73.4437 1663.5,-73 1485.868,-46.1297 1275.7033,-30.4109 1162.2116,-23.2352\"/>\n",
       "<polygon fill=\"#000000\" stroke=\"#000000\" points=\"1162.4026,-19.7404 1152.2034,-22.6087 1161.9652,-26.7267 1162.4026,-19.7404\"/>\n",
       "</g>\n",
       "<!-- 140256607246152&#45;&gt;140256595915272 -->\n",
       "<g id=\"edge41\" class=\"edge\">\n",
       "<title>140256607246152&#45;&gt;140256595915272</title>\n",
       "<path fill=\"none\" stroke=\"#000000\" d=\"M1848.0766,-74.4032C1845.1864,-73.8955 1842.3193,-73.4244 1839.5,-73 1595.1159,-36.2095 1302.6627,-24.0914 1162.4557,-20.2287\"/>\n",
       "<polygon fill=\"#000000\" stroke=\"#000000\" points=\"1162.3091,-16.7236 1152.2188,-19.9539 1162.1213,-23.7211 1162.3091,-16.7236\"/>\n",
       "</g>\n",
       "<!-- 140256609000304&#45;&gt;140256595915272 -->\n",
       "<g id=\"edge42\" class=\"edge\">\n",
       "<title>140256609000304&#45;&gt;140256595915272</title>\n",
       "<path fill=\"none\" stroke=\"#000000\" d=\"M302.2352,-74.3914C305.0197,-73.8869 307.7825,-73.4198 310.5,-73 558.2634,-34.7247 855.1542,-23.283 996.6354,-19.8986\"/>\n",
       "<polygon fill=\"#000000\" stroke=\"#000000\" points=\"997.0457,-23.3902 1006.9619,-19.6594 996.8835,-16.3921 997.0457,-23.3902\"/>\n",
       "</g>\n",
       "<!-- 140256610060440&#45;&gt;140256595915272 -->\n",
       "<g id=\"edge43\" class=\"edge\">\n",
       "<title>140256610060440&#45;&gt;140256595915272</title>\n",
       "<path fill=\"none\" stroke=\"#000000\" d=\"M467.1689,-74.3979C469.9765,-73.8993 472.7608,-73.4307 475.5,-73 660.2612,-43.9522 879.4356,-28.9753 996.3022,-22.5282\"/>\n",
       "<polygon fill=\"#000000\" stroke=\"#000000\" points=\"996.8054,-26.0061 1006.6004,-21.9676 996.4249,-19.0164 996.8054,-26.0061\"/>\n",
       "</g>\n",
       "<!-- 140256608794496&#45;&gt;140256595915272 -->\n",
       "<g id=\"edge44\" class=\"edge\">\n",
       "<title>140256608794496&#45;&gt;140256595915272</title>\n",
       "<path fill=\"none\" stroke=\"#000000\" d=\"M628.3854,-74.502C631.1208,-73.9742 633.8328,-73.4711 636.5,-73 761.2264,-50.9688 907.2739,-34.8533 996.5708,-26.0805\"/>\n",
       "<polygon fill=\"#000000\" stroke=\"#000000\" points=\"997.0247,-29.553 1006.6379,-25.099 996.3454,-22.586 997.0247,-29.553\"/>\n",
       "</g>\n",
       "<!-- 140256606342168&#45;&gt;140256595915272 -->\n",
       "<g id=\"edge45\" class=\"edge\">\n",
       "<title>140256606342168&#45;&gt;140256595915272</title>\n",
       "<path fill=\"none\" stroke=\"#000000\" d=\"M836.3427,-73.4551C885.1922,-62.4148 947.5678,-48.3175 996.9123,-37.1653\"/>\n",
       "<polygon fill=\"#000000\" stroke=\"#000000\" points=\"997.9342,-40.5227 1006.9166,-34.9043 996.391,-33.6949 997.9342,-40.5227\"/>\n",
       "</g>\n",
       "<!-- 140256603630784&#45;&gt;140256595915272 -->\n",
       "<g id=\"edge46\" class=\"edge\">\n",
       "<title>140256603630784&#45;&gt;140256595915272</title>\n",
       "<path fill=\"none\" stroke=\"#000000\" d=\"M1007.2303,-73.4551C1019.3459,-64.2422 1034.2608,-52.9006 1047.3886,-42.918\"/>\n",
       "<polygon fill=\"#000000\" stroke=\"#000000\" points=\"1049.8684,-45.4293 1055.7099,-36.5904 1045.6314,-39.8573 1049.8684,-45.4293\"/>\n",
       "</g>\n",
       "</g>\n",
       "</svg>\n"
      ],
      "text/plain": [
       "<snn.utils.Graph at 0x7f900b83c390>"
      ]
     },
     "execution_count": 19,
     "metadata": {},
     "output_type": "execute_result"
    }
   ],
   "source": [
    "draw(snn_model)"
   ]
  },
  {
   "cell_type": "code",
   "execution_count": 20,
   "metadata": {},
   "outputs": [
    {
     "name": "stdout",
     "output_type": "stream",
     "text": [
      "__________________________________________________________________________________________________\n",
      "Layer (type)                    Output Shape         Param #     Connected to                     \n",
      "==================================================================================================\n",
      "input_2 (InputLayer)            (None, 30924)        0                                            \n",
      "__________________________________________________________________________________________________\n",
      "Person (EntityLayer)            (None, 32)           990656      input_2[0][0]                    \n",
      "__________________________________________________________________________________________________\n",
      "Movie (EntityLayer)             (None, 32)           990656      input_2[0][0]                    \n",
      "__________________________________________________________________________________________________\n",
      "director (RelationLayer)        (None, 64)           6272        Movie[0][0]                      \n",
      "                                                                 Person[0][0]                     \n",
      "__________________________________________________________________________________________________\n",
      "cinematographer (RelationLayer) (None, 64)           6272        Movie[0][0]                      \n",
      "                                                                 Person[0][0]                     \n",
      "__________________________________________________________________________________________________\n",
      "composer (RelationLayer)        (None, 64)           6272        Movie[0][0]                      \n",
      "                                                                 Person[0][0]                     \n",
      "__________________________________________________________________________________________________\n",
      "producer (RelationLayer)        (None, 64)           6272        Movie[0][0]                      \n",
      "                                                                 Person[0][0]                     \n",
      "__________________________________________________________________________________________________\n",
      "editor (RelationLayer)          (None, 64)           6272        Movie[0][0]                      \n",
      "                                                                 Person[0][0]                     \n",
      "__________________________________________________________________________________________________\n",
      "actor (RelationLayer)           (None, 64)           6272        Movie[0][0]                      \n",
      "                                                                 Person[0][0]                     \n",
      "__________________________________________________________________________________________________\n",
      "actress (RelationLayer)         (None, 64)           6272        Movie[0][0]                      \n",
      "                                                                 Person[0][0]                     \n",
      "__________________________________________________________________________________________________\n",
      "writer (RelationLayer)          (None, 64)           6272        Movie[0][0]                      \n",
      "                                                                 Person[0][0]                     \n",
      "__________________________________________________________________________________________________\n",
      "production_designer (RelationLa (None, 64)           6272        Movie[0][0]                      \n",
      "                                                                 Person[0][0]                     \n",
      "__________________________________________________________________________________________________\n",
      "archive_footage (RelationLayer) (None, 64)           6272        Movie[0][0]                      \n",
      "                                                                 Person[0][0]                     \n",
      "__________________________________________________________________________________________________\n",
      "indicator-Person (Dense)        (None, 1)            33          Person[0][0]                     \n",
      "__________________________________________________________________________________________________\n",
      "indicator-Movie (Dense)         (None, 1)            33          Movie[0][0]                      \n",
      "__________________________________________________________________________________________________\n",
      "indicator-director (Dense)      (None, 1)            65          director[0][0]                   \n",
      "__________________________________________________________________________________________________\n",
      "indicator-cinematographer (Dens (None, 1)            65          cinematographer[0][0]            \n",
      "__________________________________________________________________________________________________\n",
      "indicator-composer (Dense)      (None, 1)            65          composer[0][0]                   \n",
      "__________________________________________________________________________________________________\n",
      "indicator-producer (Dense)      (None, 1)            65          producer[0][0]                   \n",
      "__________________________________________________________________________________________________\n",
      "indicator-editor (Dense)        (None, 1)            65          editor[0][0]                     \n",
      "__________________________________________________________________________________________________\n",
      "indicator-actor (Dense)         (None, 1)            65          actor[0][0]                      \n",
      "__________________________________________________________________________________________________\n",
      "indicator-actress (Dense)       (None, 1)            65          actress[0][0]                    \n",
      "__________________________________________________________________________________________________\n",
      "indicator-writer (Dense)        (None, 1)            65          writer[0][0]                     \n",
      "__________________________________________________________________________________________________\n",
      "indicator-production_designer ( (None, 1)            65          production_designer[0][0]        \n",
      "__________________________________________________________________________________________________\n",
      "indicator-archive_footage (Dens (None, 1)            65          archive_footage[0][0]            \n",
      "__________________________________________________________________________________________________\n",
      "Indicators (Concatenate)        (None, 12)           0           indicator-Person[0][0]           \n",
      "                                                                 indicator-Movie[0][0]            \n",
      "                                                                 indicator-director[0][0]         \n",
      "                                                                 indicator-cinematographer[0][0]  \n",
      "                                                                 indicator-composer[0][0]         \n",
      "                                                                 indicator-producer[0][0]         \n",
      "                                                                 indicator-editor[0][0]           \n",
      "                                                                 indicator-actor[0][0]            \n",
      "                                                                 indicator-actress[0][0]          \n",
      "                                                                 indicator-writer[0][0]           \n",
      "                                                                 indicator-production_designer[0][\n",
      "                                                                 indicator-archive_footage[0][0]  \n",
      "==================================================================================================\n",
      "Total params: 2,044,748\n",
      "Trainable params: 2,044,748\n",
      "Non-trainable params: 0\n",
      "__________________________________________________________________________________________________\n"
     ]
    }
   ],
   "source": [
    "snn_model.summary()"
   ]
  },
  {
   "cell_type": "code",
   "execution_count": 21,
   "metadata": {},
   "outputs": [
    {
     "name": "stdout",
     "output_type": "stream",
     "text": [
      "100000/100000 [==============================] - 49s 491us/step\n"
     ]
    },
    {
     "data": {
      "text/plain": [
       "array([[1, 0, 0, ..., 1, 1, 0],\n",
       "       [1, 0, 0, ..., 1, 1, 0],\n",
       "       [0, 1, 0, ..., 0, 0, 0],\n",
       "       ...,\n",
       "       [1, 0, 0, ..., 1, 0, 1],\n",
       "       [0, 0, 0, ..., 1, 0, 1],\n",
       "       [0, 0, 0, ..., 1, 0, 1]])"
      ]
     },
     "execution_count": 21,
     "metadata": {},
     "output_type": "execute_result"
    }
   ],
   "source": [
    "yp = snn_model.predict(Xte, verbose=1)\n",
    "yp = (yp > 0.5).astype(int)\n",
    "yp"
   ]
  },
  {
   "cell_type": "code",
   "execution_count": 22,
   "metadata": {},
   "outputs": [
    {
     "data": {
      "text/plain": [
       "array([[0., 0., 1., ..., 0., 0., 0.],\n",
       "       [0., 0., 0., ..., 0., 0., 0.],\n",
       "       [0., 0., 1., ..., 0., 0., 0.],\n",
       "       ...,\n",
       "       [0., 0., 0., ..., 0., 0., 0.],\n",
       "       [0., 0., 0., ..., 0., 0., 0.],\n",
       "       [0., 0., 0., ..., 0., 0., 0.]])"
      ]
     },
     "execution_count": 22,
     "metadata": {},
     "output_type": "execute_result"
    }
   ],
   "source": [
    "yt = snn.map(y)\n",
    "yt"
   ]
  },
  {
   "cell_type": "code",
   "execution_count": 23,
   "metadata": {},
   "outputs": [
    {
     "data": {
      "text/plain": [
       "0.5275408333333333"
      ]
     },
     "execution_count": 23,
     "metadata": {},
     "output_type": "execute_result"
    }
   ],
   "source": [
    "(yp == yt).mean()"
   ]
  },
  {
   "cell_type": "code",
   "execution_count": 24,
   "metadata": {},
   "outputs": [
    {
     "name": "stdout",
     "output_type": "stream",
     "text": [
      "Train on 90000 samples, validate on 10000 samples\n",
      "Epoch 1/10\n",
      "90000/90000 [==============================] - 97s 1ms/step - loss: 0.2115 - acc: 0.9337 - val_loss: 0.1697 - val_acc: 0.9354\n",
      "Epoch 2/10\n",
      "90000/90000 [==============================] - 96s 1ms/step - loss: 0.1782 - acc: 0.9530 - val_loss: 0.1640 - val_acc: 0.9451\n",
      "Epoch 3/10\n",
      "90000/90000 [==============================] - 95s 1ms/step - loss: 0.1482 - acc: 0.9625 - val_loss: 0.1644 - val_acc: 0.9511\n",
      "Epoch 4/10\n",
      "90000/90000 [==============================] - 96s 1ms/step - loss: 0.1315 - acc: 0.9674 - val_loss: 0.1730 - val_acc: 0.9450\n",
      "Epoch 5/10\n",
      "90000/90000 [==============================] - 96s 1ms/step - loss: 0.1559 - acc: 0.9677 - val_loss: 0.1727 - val_acc: 0.9516\n",
      "Epoch 6/10\n",
      "90000/90000 [==============================] - 97s 1ms/step - loss: 0.1603 - acc: 0.9687 - val_loss: 0.1588 - val_acc: 0.9563\n",
      "Epoch 7/10\n",
      "90000/90000 [==============================] - 98s 1ms/step - loss: 0.1505 - acc: 0.9700 - val_loss: 0.1818 - val_acc: 0.9555: 5s - l - ETA: 3s - loss: 0.\n",
      "Epoch 8/10\n",
      "90000/90000 [==============================] - 99s 1ms/step - loss: 0.1267 - acc: 0.9722 - val_loss: 0.1659 - val_acc: 0.9564 0.1247 - ac - ETA: 7s - loss: 0.1 - ETA: 6s - loss: 0.1250 - acc: - ETA: 6s - loss: 0.1249 - a - ETA: 5s - loss:  - ETA: 4s - loss: 0.1254 -  - ETA: 3s - loss: 0.125 \n",
      "Epoch 9/10\n",
      "90000/90000 [==============================] - 98s 1ms/step - loss: 0.1457 - acc: 0.9714 - val_loss: 0.1629 - val_acc: 0.9570- a - - ETA: 3s - ETA: 1\n",
      "Epoch 10/10\n",
      "90000/90000 [==============================] - 98s 1ms/step - loss: 0.1547 - acc: 0.9711 - val_loss: 0.1583 - val_acc: 0.9570 acc: - ETA: 1:22 - loss: 0. - ETA: 1:20 - loss: 0.1516 - acc - ETA: 1:20 - loss: 0.1527 - acc:  - ETA: 1:19 - loss: 0.152 - ETA: 1:19 - loss: 0.1526 -  - ETA: 1:18 - loss: 0.1525  - ETA: 1:17 - loss: 0.1537 - acc: 0 - ETA: 1:17 - loss: 0.1530  - ETA: 1:16 - loss: 0.1533 - ac - ETA: 1:15 - ETA: 36 - ETA: - ETA: 0s - loss: 0.1547 - acc: \n"
     ]
    },
    {
     "data": {
      "text/plain": [
       "<keras.callbacks.History at 0x7f8ffc4a63c8>"
      ]
     },
     "execution_count": 24,
     "metadata": {},
     "output_type": "execute_result"
    }
   ],
   "source": [
    "snn_model.fit(Xte, yt, epochs=10, validation_split=0.1)"
   ]
  },
  {
   "cell_type": "code",
   "execution_count": 25,
   "metadata": {},
   "outputs": [
    {
     "name": "stdout",
     "output_type": "stream",
     "text": [
      "100000/100000 [==============================] - 45s 448us/step\n"
     ]
    },
    {
     "data": {
      "text/plain": [
       "array([[0, 0, 1, ..., 0, 0, 0],\n",
       "       [0, 0, 0, ..., 0, 0, 0],\n",
       "       [0, 0, 1, ..., 0, 0, 0],\n",
       "       ...,\n",
       "       [0, 0, 0, ..., 0, 0, 0],\n",
       "       [0, 0, 0, ..., 0, 0, 0],\n",
       "       [0, 0, 0, ..., 0, 0, 0]])"
      ]
     },
     "execution_count": 25,
     "metadata": {},
     "output_type": "execute_result"
    }
   ],
   "source": [
    "yp = snn_model.predict(Xte, verbose=1)\n",
    "yp = (yp > 0.5).astype(int)\n",
    "yp"
   ]
  },
  {
   "cell_type": "code",
   "execution_count": 26,
   "metadata": {},
   "outputs": [
    {
     "data": {
      "text/plain": [
       "0.9713283333333333"
      ]
     },
     "execution_count": 26,
     "metadata": {},
     "output_type": "execute_result"
    }
   ],
   "source": [
    "(yp == yt).mean()"
   ]
  },
  {
   "cell_type": "code",
   "execution_count": 27,
   "metadata": {},
   "outputs": [],
   "source": [
    "snn_model.save('../data/snn_model.model')"
   ]
  },
  {
   "cell_type": "markdown",
   "metadata": {},
   "source": [
    "## Entrenar entidades por separado"
   ]
  },
  {
   "cell_type": "code",
   "execution_count": 28,
   "metadata": {},
   "outputs": [],
   "source": [
    "from snn.layers import EntityLayer, RelationLayer\n",
    "from keras.models import Model\n",
    "from keras.layers import Dense\n",
    "from random import shuffle"
   ]
  },
  {
   "cell_type": "markdown",
   "metadata": {},
   "source": [
    "## Entrnando las entidades"
   ]
  },
  {
   "cell_type": "markdown",
   "metadata": {},
   "source": [
    "### Entrenando entidad Person"
   ]
  },
  {
   "cell_type": "code",
   "execution_count": 29,
   "metadata": {},
   "outputs": [],
   "source": [
    "x = Input(shape=(emb_m.output_shape[1],), sparse=True)\n",
    "Person_e=EntityLayer(snn.entity_shape, name=Person.name)(x)\n",
    "Person_i=Dense(units=1, activation='sigmoid', name=\"indicator-%s\" % Person.name)(Person_e)\n",
    "Person_m = Model(inputs=x, outputs=Person_i)\n",
    "Person_m.compile(optimizer='rmsprop', loss='binary_crossentropy', metrics=['acc'])"
   ]
  },
  {
   "cell_type": "code",
   "execution_count": 30,
   "metadata": {},
   "outputs": [
    {
     "data": {
      "image/svg+xml": [
       "<?xml version=\"1.0\" encoding=\"UTF-8\" standalone=\"no\"?>\n",
       "<!DOCTYPE svg PUBLIC \"-//W3C//DTD SVG 1.1//EN\"\n",
       " \"http://www.w3.org/Graphics/SVG/1.1/DTD/svg11.dtd\">\n",
       "<!-- Generated by graphviz version 2.40.1 (20161225.0304)\n",
       " -->\n",
       "<!-- Title: G Pages: 1 -->\n",
       "<svg width=\"155pt\" height=\"191pt\"\n",
       " viewBox=\"0.00 0.00 155.00 191.00\" xmlns=\"http://www.w3.org/2000/svg\" xmlns:xlink=\"http://www.w3.org/1999/xlink\">\n",
       "<g id=\"graph0\" class=\"graph\" transform=\"scale(1 1) rotate(0) translate(4 187)\">\n",
       "<title>G</title>\n",
       "<polygon fill=\"#ffffff\" stroke=\"transparent\" points=\"-4,4 -4,-187 151,-187 151,4 -4,4\"/>\n",
       "<!-- 140256372892448 -->\n",
       "<g id=\"node1\" class=\"node\">\n",
       "<title>140256372892448</title>\n",
       "<polygon fill=\"none\" stroke=\"#000000\" points=\"11,-146.5 11,-182.5 136,-182.5 136,-146.5 11,-146.5\"/>\n",
       "<text text-anchor=\"middle\" x=\"73.5\" y=\"-160.8\" font-family=\"Times,serif\" font-size=\"14.00\" fill=\"#000000\">input_3: InputLayer</text>\n",
       "</g>\n",
       "<!-- 140256372892392 -->\n",
       "<g id=\"node2\" class=\"node\">\n",
       "<title>140256372892392</title>\n",
       "<polygon fill=\"none\" stroke=\"#000000\" points=\"11,-73.5 11,-109.5 136,-109.5 136,-73.5 11,-73.5\"/>\n",
       "<text text-anchor=\"middle\" x=\"73.5\" y=\"-87.8\" font-family=\"Times,serif\" font-size=\"14.00\" fill=\"#000000\">Person: EntityLayer</text>\n",
       "</g>\n",
       "<!-- 140256372892448&#45;&gt;140256372892392 -->\n",
       "<g id=\"edge1\" class=\"edge\">\n",
       "<title>140256372892448&#45;&gt;140256372892392</title>\n",
       "<path fill=\"none\" stroke=\"#000000\" d=\"M73.5,-146.4551C73.5,-138.3828 73.5,-128.6764 73.5,-119.6817\"/>\n",
       "<polygon fill=\"#000000\" stroke=\"#000000\" points=\"77.0001,-119.5903 73.5,-109.5904 70.0001,-119.5904 77.0001,-119.5903\"/>\n",
       "</g>\n",
       "<!-- 140256372892784 -->\n",
       "<g id=\"node3\" class=\"node\">\n",
       "<title>140256372892784</title>\n",
       "<polygon fill=\"none\" stroke=\"#000000\" points=\"0,-.5 0,-36.5 147,-36.5 147,-.5 0,-.5\"/>\n",
       "<text text-anchor=\"middle\" x=\"73.5\" y=\"-14.8\" font-family=\"Times,serif\" font-size=\"14.00\" fill=\"#000000\">indicator&#45;Person: Dense</text>\n",
       "</g>\n",
       "<!-- 140256372892392&#45;&gt;140256372892784 -->\n",
       "<g id=\"edge2\" class=\"edge\">\n",
       "<title>140256372892392&#45;&gt;140256372892784</title>\n",
       "<path fill=\"none\" stroke=\"#000000\" d=\"M73.5,-73.4551C73.5,-65.3828 73.5,-55.6764 73.5,-46.6817\"/>\n",
       "<polygon fill=\"#000000\" stroke=\"#000000\" points=\"77.0001,-46.5903 73.5,-36.5904 70.0001,-46.5904 77.0001,-46.5903\"/>\n",
       "</g>\n",
       "</g>\n",
       "</svg>\n"
      ],
      "text/plain": [
       "<snn.utils.Graph at 0x7f8ffb488cf8>"
      ]
     },
     "execution_count": 30,
     "metadata": {},
     "output_type": "execute_result"
    }
   ],
   "source": [
    "draw(Person_m)"
   ]
  },
  {
   "cell_type": "code",
   "execution_count": 31,
   "metadata": {},
   "outputs": [
    {
     "name": "stdout",
     "output_type": "stream",
     "text": [
      "200000/200000 [==============================] - 116s 578us/step\n"
     ]
    }
   ],
   "source": [
    "tt = list(zip(person,[1]*len(person)))+list(zip(movie,[0]*len(movie)))\n",
    "shuffle(tt)\n",
    "Xt11 = cv.transform(list(map( lambda x: x[0],tt)))\n",
    "Xt1 = emb_m.predict(Xt11, verbose=1)\n",
    "yt1 = np.asarray(list(map( lambda x: [x[1]],tt))).astype(int)"
   ]
  },
  {
   "cell_type": "code",
   "execution_count": 32,
   "metadata": {},
   "outputs": [
    {
     "name": "stdout",
     "output_type": "stream",
     "text": [
      "Train on 180000 samples, validate on 20000 samples\n",
      "Epoch 1/10\n",
      "180000/180000 [==============================] - 55s 305us/step - loss: 0.1850 - acc: 0.9481 - val_loss: 0.1083 - val_acc: 0.9808\n",
      "Epoch 2/10\n",
      "180000/180000 [==============================] - 55s 305us/step - loss: 0.0832 - acc: 0.9856 - val_loss: 0.0806 - val_acc: 0.9845\n",
      "Epoch 3/10\n",
      "180000/180000 [==============================] - 55s 305us/step - loss: 0.0687 - acc: 0.9872 - val_loss: 0.0748 - val_acc: 0.9838\n",
      "Epoch 4/10\n",
      "180000/180000 [==============================] - 55s 305us/step - loss: 0.0656 - acc: 0.9877 - val_loss: 0.0750 - val_acc: 0.9860\n",
      "Epoch 5/10\n",
      "180000/180000 [==============================] - 55s 305us/step - loss: 0.0638 - acc: 0.9879 - val_loss: 0.0721 - val_acc: 0.9852\n",
      "Epoch 6/10\n",
      "180000/180000 [==============================] - 55s 305us/step - loss: 0.0608 - acc: 0.9885 - val_loss: 0.0707 - val_acc: 0.9870\n",
      "Epoch 7/10\n",
      "180000/180000 [==============================] - 55s 305us/step - loss: 0.0593 - acc: 0.9888 - val_loss: 0.0684 - val_acc: 0.9852\n",
      "Epoch 8/10\n",
      "180000/180000 [==============================] - 55s 305us/step - loss: 0.0584 - acc: 0.9891 - val_loss: 0.0681 - val_acc: 0.9871\n",
      "Epoch 9/10\n",
      "180000/180000 [==============================] - 55s 305us/step - loss: 0.0570 - acc: 0.9893 - val_loss: 0.0684 - val_acc: 0.9869\n",
      "Epoch 10/10\n",
      "180000/180000 [==============================] - 55s 305us/step - loss: 0.0562 - acc: 0.9895 - val_loss: 0.0659 - val_acc: 0.9876\n"
     ]
    },
    {
     "data": {
      "text/plain": [
       "<keras.callbacks.History at 0x7f8ff94eecf8>"
      ]
     },
     "execution_count": 32,
     "metadata": {},
     "output_type": "execute_result"
    }
   ],
   "source": [
    "Person_m.fit(Xt1, yt1, epochs=10, validation_split=0.1)"
   ]
  },
  {
   "cell_type": "code",
   "execution_count": 33,
   "metadata": {},
   "outputs": [
    {
     "name": "stdout",
     "output_type": "stream",
     "text": [
      "200000/200000 [==============================] - 35s 176us/step\n"
     ]
    },
    {
     "data": {
      "text/plain": [
       "array([[0],\n",
       "       [1],\n",
       "       [1],\n",
       "       ...,\n",
       "       [0],\n",
       "       [1],\n",
       "       [0]])"
      ]
     },
     "execution_count": 33,
     "metadata": {},
     "output_type": "execute_result"
    }
   ],
   "source": [
    "yp = Person_m.predict(Xt1, verbose=1)\n",
    "yp = (yp > 0.5).astype(int)\n",
    "yp"
   ]
  },
  {
   "cell_type": "code",
   "execution_count": 34,
   "metadata": {},
   "outputs": [
    {
     "data": {
      "text/plain": [
       "0.99048"
      ]
     },
     "execution_count": 34,
     "metadata": {},
     "output_type": "execute_result"
    }
   ],
   "source": [
    "(yp == yt1).mean()"
   ]
  },
  {
   "cell_type": "code",
   "execution_count": 35,
   "metadata": {},
   "outputs": [],
   "source": [
    "Person_m.save('../data/snn_e_person.model')"
   ]
  },
  {
   "cell_type": "markdown",
   "metadata": {},
   "source": [
    "### Entrenando entidad Person"
   ]
  },
  {
   "cell_type": "code",
   "execution_count": 36,
   "metadata": {},
   "outputs": [],
   "source": [
    "x = Input(shape=(emb_m.output_shape[1],), sparse=True)\n",
    "Movie_e=EntityLayer(snn.entity_shape, name=Movie.name)(x)\n",
    "Movie_i=Dense(units=1, activation='sigmoid', name=\"indicator-%s\" % Movie.name)(Movie_e)\n",
    "Movie_m = Model(inputs=x, outputs=Movie_i)\n",
    "Movie_m.compile(optimizer='rmsprop', loss='binary_crossentropy', metrics=['acc'])"
   ]
  },
  {
   "cell_type": "code",
   "execution_count": 37,
   "metadata": {},
   "outputs": [
    {
     "data": {
      "image/svg+xml": [
       "<?xml version=\"1.0\" encoding=\"UTF-8\" standalone=\"no\"?>\n",
       "<!DOCTYPE svg PUBLIC \"-//W3C//DTD SVG 1.1//EN\"\n",
       " \"http://www.w3.org/Graphics/SVG/1.1/DTD/svg11.dtd\">\n",
       "<!-- Generated by graphviz version 2.40.1 (20161225.0304)\n",
       " -->\n",
       "<!-- Title: G Pages: 1 -->\n",
       "<svg width=\"154pt\" height=\"191pt\"\n",
       " viewBox=\"0.00 0.00 154.00 191.00\" xmlns=\"http://www.w3.org/2000/svg\" xmlns:xlink=\"http://www.w3.org/1999/xlink\">\n",
       "<g id=\"graph0\" class=\"graph\" transform=\"scale(1 1) rotate(0) translate(4 187)\">\n",
       "<title>G</title>\n",
       "<polygon fill=\"#ffffff\" stroke=\"transparent\" points=\"-4,4 -4,-187 150,-187 150,4 -4,4\"/>\n",
       "<!-- 140256337002960 -->\n",
       "<g id=\"node1\" class=\"node\">\n",
       "<title>140256337002960</title>\n",
       "<polygon fill=\"none\" stroke=\"#000000\" points=\"10.5,-146.5 10.5,-182.5 135.5,-182.5 135.5,-146.5 10.5,-146.5\"/>\n",
       "<text text-anchor=\"middle\" x=\"73\" y=\"-160.8\" font-family=\"Times,serif\" font-size=\"14.00\" fill=\"#000000\">input_4: InputLayer</text>\n",
       "</g>\n",
       "<!-- 140256337002904 -->\n",
       "<g id=\"node2\" class=\"node\">\n",
       "<title>140256337002904</title>\n",
       "<polygon fill=\"none\" stroke=\"#000000\" points=\"10.5,-73.5 10.5,-109.5 135.5,-109.5 135.5,-73.5 10.5,-73.5\"/>\n",
       "<text text-anchor=\"middle\" x=\"73\" y=\"-87.8\" font-family=\"Times,serif\" font-size=\"14.00\" fill=\"#000000\">Movie: EntityLayer</text>\n",
       "</g>\n",
       "<!-- 140256337002960&#45;&gt;140256337002904 -->\n",
       "<g id=\"edge1\" class=\"edge\">\n",
       "<title>140256337002960&#45;&gt;140256337002904</title>\n",
       "<path fill=\"none\" stroke=\"#000000\" d=\"M73,-146.4551C73,-138.3828 73,-128.6764 73,-119.6817\"/>\n",
       "<polygon fill=\"#000000\" stroke=\"#000000\" points=\"76.5001,-119.5903 73,-109.5904 69.5001,-119.5904 76.5001,-119.5903\"/>\n",
       "</g>\n",
       "<!-- 140256337003296 -->\n",
       "<g id=\"node3\" class=\"node\">\n",
       "<title>140256337003296</title>\n",
       "<polygon fill=\"none\" stroke=\"#000000\" points=\"0,-.5 0,-36.5 146,-36.5 146,-.5 0,-.5\"/>\n",
       "<text text-anchor=\"middle\" x=\"73\" y=\"-14.8\" font-family=\"Times,serif\" font-size=\"14.00\" fill=\"#000000\">indicator&#45;Movie: Dense</text>\n",
       "</g>\n",
       "<!-- 140256337002904&#45;&gt;140256337003296 -->\n",
       "<g id=\"edge2\" class=\"edge\">\n",
       "<title>140256337002904&#45;&gt;140256337003296</title>\n",
       "<path fill=\"none\" stroke=\"#000000\" d=\"M73,-73.4551C73,-65.3828 73,-55.6764 73,-46.6817\"/>\n",
       "<polygon fill=\"#000000\" stroke=\"#000000\" points=\"76.5001,-46.5903 73,-36.5904 69.5001,-46.5904 76.5001,-46.5903\"/>\n",
       "</g>\n",
       "</g>\n",
       "</svg>\n"
      ],
      "text/plain": [
       "<snn.utils.Graph at 0x7f8ffb4ad7f0>"
      ]
     },
     "execution_count": 37,
     "metadata": {},
     "output_type": "execute_result"
    }
   ],
   "source": [
    "draw(Movie_m)"
   ]
  },
  {
   "cell_type": "code",
   "execution_count": 38,
   "metadata": {},
   "outputs": [
    {
     "name": "stdout",
     "output_type": "stream",
     "text": [
      "200000/200000 [==============================] - 114s 570us/step\n"
     ]
    }
   ],
   "source": [
    "tt = list(zip(person,[0]*len(person)))+list(zip(movie,[1]*len(movie)))\n",
    "shuffle(tt)\n",
    "Xt11 = cv.transform(list(map( lambda x: x[0],tt)))\n",
    "Xt1 = emb_m.predict(Xt11, verbose=1)\n",
    "yt1 = np.asarray(list(map( lambda x: [x[1]],tt))).astype(int)"
   ]
  },
  {
   "cell_type": "code",
   "execution_count": 39,
   "metadata": {},
   "outputs": [
    {
     "name": "stdout",
     "output_type": "stream",
     "text": [
      "Train on 180000 samples, validate on 20000 samples\n",
      "Epoch 1/10\n",
      "180000/180000 [==============================] - 55s 305us/step - loss: 0.1892 - acc: 0.9478 - val_loss: 0.1042 - val_acc: 0.9815\n",
      "Epoch 2/10\n",
      "180000/180000 [==============================] - 55s 305us/step - loss: 0.0895 - acc: 0.9850 - val_loss: 0.0833 - val_acc: 0.9846\n",
      "Epoch 3/10\n",
      "180000/180000 [==============================] - 55s 305us/step - loss: 0.0771 - acc: 0.9869 - val_loss: 0.0813 - val_acc: 0.9840\n",
      "Epoch 4/10\n",
      "180000/180000 [==============================] - 55s 305us/step - loss: 0.0729 - acc: 0.9875 - val_loss: 0.0816 - val_acc: 0.9845\n",
      "Epoch 5/10\n",
      "180000/180000 [==============================] - 55s 305us/step - loss: 0.0705 - acc: 0.9877 - val_loss: 0.0753 - val_acc: 0.9853\n",
      "Epoch 6/10\n",
      "180000/180000 [==============================] - 55s 306us/step - loss: 0.0683 - acc: 0.9881 - val_loss: 0.0742 - val_acc: 0.9850\n",
      "Epoch 7/10\n",
      "180000/180000 [==============================] - 55s 306us/step - loss: 0.0668 - acc: 0.9880 - val_loss: 0.0756 - val_acc: 0.9855\n",
      "Epoch 8/10\n",
      "180000/180000 [==============================] - 55s 306us/step - loss: 0.0651 - acc: 0.9887 - val_loss: 0.0702 - val_acc: 0.9850\n",
      "Epoch 9/10\n",
      "180000/180000 [==============================] - 55s 305us/step - loss: 0.0637 - acc: 0.9889 - val_loss: 0.0719 - val_acc: 0.9829\n",
      "Epoch 10/10\n",
      "180000/180000 [==============================] - 55s 305us/step - loss: 0.0630 - acc: 0.9889 - val_loss: 0.0746 - val_acc: 0.9854\n"
     ]
    },
    {
     "data": {
      "text/plain": [
       "<keras.callbacks.History at 0x7f90017a4f60>"
      ]
     },
     "execution_count": 39,
     "metadata": {},
     "output_type": "execute_result"
    }
   ],
   "source": [
    "Movie_m.fit(Xt1, yt1, epochs=10, validation_split=0.1)"
   ]
  },
  {
   "cell_type": "code",
   "execution_count": 40,
   "metadata": {},
   "outputs": [
    {
     "name": "stdout",
     "output_type": "stream",
     "text": [
      "200000/200000 [==============================] - 35s 176us/step\n"
     ]
    },
    {
     "data": {
      "text/plain": [
       "array([[0],\n",
       "       [1],\n",
       "       [1],\n",
       "       ...,\n",
       "       [1],\n",
       "       [0],\n",
       "       [1]])"
      ]
     },
     "execution_count": 40,
     "metadata": {},
     "output_type": "execute_result"
    }
   ],
   "source": [
    "yp = Movie_m.predict(Xt1, verbose=1)\n",
    "yp = (yp > 0.5).astype(int)\n",
    "yp"
   ]
  },
  {
   "cell_type": "code",
   "execution_count": 41,
   "metadata": {},
   "outputs": [
    {
     "data": {
      "text/plain": [
       "0.98966"
      ]
     },
     "execution_count": 41,
     "metadata": {},
     "output_type": "execute_result"
    }
   ],
   "source": [
    "(yp == yt1).mean()"
   ]
  },
  {
   "cell_type": "code",
   "execution_count": 42,
   "metadata": {},
   "outputs": [],
   "source": [
    "Movie_m.save('../data/snn_e_movie.model')"
   ]
  },
  {
   "cell_type": "markdown",
   "metadata": {},
   "source": [
    "## Entrnanado las relaciones"
   ]
  },
  {
   "cell_type": "code",
   "execution_count": 43,
   "metadata": {
    "scrolled": false
   },
   "outputs": [
    {
     "name": "stdout",
     "output_type": "stream",
     "text": [
      "Relación: director\n",
      "-----------------------------------------------------------------------\n",
      "__________________________________________________________________________________________________\n",
      "Layer (type)                    Output Shape         Param #     Connected to                     \n",
      "==================================================================================================\n",
      "input_5 (InputLayer)            (None, 30924)        0                                            \n",
      "__________________________________________________________________________________________________\n",
      "Person (EntityLayer)            (None, 32)           990656      input_5[0][0]                    \n",
      "__________________________________________________________________________________________________\n",
      "Movie (EntityLayer)             (None, 32)           990656      input_5[0][0]                    \n",
      "__________________________________________________________________________________________________\n",
      "director (RelationLayer)        (None, 64)           6272        Person[0][0]                     \n",
      "                                                                 Movie[0][0]                      \n",
      "__________________________________________________________________________________________________\n",
      "indicator-director (Dense)      (None, 1)            65          director[0][0]                   \n",
      "==================================================================================================\n",
      "Total params: 1,987,649\n",
      "Trainable params: 6,337\n",
      "Non-trainable params: 1,981,312\n",
      "__________________________________________________________________________________________________\n",
      "None\n",
      "Train on 90000 samples, validate on 10000 samples\n",
      "Epoch 1/10\n",
      "90000/90000 [==============================] - 37s 409us/step - loss: 0.4115 - acc: 0.8687 - val_loss: 0.3621 - val_acc: 0.8821\n",
      "Epoch 2/10\n",
      "90000/90000 [==============================] - 37s 409us/step - loss: 0.3780 - acc: 0.8759 - val_loss: 0.3642 - val_acc: 0.8821\n",
      "Epoch 3/10\n",
      "90000/90000 [==============================] - 37s 409us/step - loss: 0.3774 - acc: 0.8759 - val_loss: 0.3635 - val_acc: 0.8821\n",
      "Epoch 4/10\n",
      "90000/90000 [==============================] - 37s 409us/step - loss: 0.3773 - acc: 0.8758 - val_loss: 0.3628 - val_acc: 0.8821\n",
      "Epoch 5/10\n",
      "90000/90000 [==============================] - 37s 409us/step - loss: 0.3774 - acc: 0.8758 - val_loss: 0.3627 - val_acc: 0.8820\n",
      "Epoch 6/10\n",
      "90000/90000 [==============================] - 37s 409us/step - loss: 0.3774 - acc: 0.8758 - val_loss: 0.3690 - val_acc: 0.8820\n",
      "Epoch 7/10\n",
      "90000/90000 [==============================] - 37s 409us/step - loss: 0.3770 - acc: 0.8759 - val_loss: 0.3647 - val_acc: 0.8821\n",
      "Epoch 8/10\n",
      "90000/90000 [==============================] - 37s 408us/step - loss: 0.3769 - acc: 0.8759 - val_loss: 0.3660 - val_acc: 0.8821\n",
      "Epoch 9/10\n",
      "90000/90000 [==============================] - 37s 408us/step - loss: 0.3769 - acc: 0.8759 - val_loss: 0.3655 - val_acc: 0.8821\n",
      "Epoch 10/10\n",
      "90000/90000 [==============================] - 37s 408us/step - loss: 0.3766 - acc: 0.8759 - val_loss: 0.3657 - val_acc: 0.8820\n",
      "100000/100000 [==============================] - 34s 339us/step\n",
      "[[0]\n",
      " [0]\n",
      " [0]\n",
      " ...\n",
      " [0]\n",
      " [0]\n",
      " [0]]\n",
      "0.87625\n",
      "-----------------------------------------------------------------------\n",
      "Relación: cinematographer\n",
      "-----------------------------------------------------------------------\n",
      "__________________________________________________________________________________________________\n",
      "Layer (type)                    Output Shape         Param #     Connected to                     \n",
      "==================================================================================================\n",
      "input_5 (InputLayer)            (None, 30924)        0                                            \n",
      "__________________________________________________________________________________________________\n",
      "Person (EntityLayer)            (None, 32)           990656      input_5[0][0]                    \n",
      "__________________________________________________________________________________________________\n",
      "Movie (EntityLayer)             (None, 32)           990656      input_5[0][0]                    \n",
      "__________________________________________________________________________________________________\n",
      "cinematographer (RelationLayer) (None, 64)           6272        Person[0][0]                     \n",
      "                                                                 Movie[0][0]                      \n",
      "__________________________________________________________________________________________________\n",
      "indicator-cinematographer (Dens (None, 1)            65          cinematographer[0][0]            \n",
      "==================================================================================================\n",
      "Total params: 1,987,649\n",
      "Trainable params: 6,337\n",
      "Non-trainable params: 1,981,312\n",
      "__________________________________________________________________________________________________\n",
      "None\n",
      "Train on 90000 samples, validate on 10000 samples\n",
      "Epoch 1/10\n",
      "90000/90000 [==============================] - 37s 409us/step - loss: 0.2718 - acc: 0.9285 - val_loss: 0.3175 - val_acc: 0.9042\n",
      "Epoch 2/10\n",
      "90000/90000 [==============================] - 37s 409us/step - loss: 0.2420 - acc: 0.9352 - val_loss: 0.3277 - val_acc: 0.9042\n",
      "Epoch 3/10\n",
      "90000/90000 [==============================] - 37s 410us/step - loss: 0.2424 - acc: 0.9352 - val_loss: 0.3194 - val_acc: 0.9042\n",
      "Epoch 4/10\n",
      "90000/90000 [==============================] - 37s 409us/step - loss: 0.2420 - acc: 0.9352 - val_loss: 0.3226 - val_acc: 0.9042\n",
      "Epoch 5/10\n",
      "90000/90000 [==============================] - 37s 409us/step - loss: 0.2417 - acc: 0.9352 - val_loss: 0.3196 - val_acc: 0.9042\n",
      "Epoch 6/10\n",
      "90000/90000 [==============================] - 37s 409us/step - loss: 0.2417 - acc: 0.9352 - val_loss: 0.3223 - val_acc: 0.9042\n",
      "Epoch 7/10\n",
      "90000/90000 [==============================] - 37s 409us/step - loss: 0.2418 - acc: 0.9353 - val_loss: 0.3213 - val_acc: 0.9042\n",
      "Epoch 8/10\n",
      "90000/90000 [==============================] - 37s 409us/step - loss: 0.2418 - acc: 0.9353 - val_loss: 0.3247 - val_acc: 0.9042\n",
      "Epoch 9/10\n",
      "90000/90000 [==============================] - 37s 409us/step - loss: 0.2417 - acc: 0.9353 - val_loss: 0.3301 - val_acc: 0.9042\n",
      "Epoch 10/10\n",
      "90000/90000 [==============================] - 37s 409us/step - loss: 0.2414 - acc: 0.9352 - val_loss: 0.3235 - val_acc: 0.9042\n",
      "100000/100000 [==============================] - 34s 339us/step\n",
      "[[0]\n",
      " [0]\n",
      " [0]\n",
      " ...\n",
      " [0]\n",
      " [0]\n",
      " [0]]\n",
      "0.93223\n",
      "-----------------------------------------------------------------------\n",
      "Relación: composer\n",
      "-----------------------------------------------------------------------\n",
      "__________________________________________________________________________________________________\n",
      "Layer (type)                    Output Shape         Param #     Connected to                     \n",
      "==================================================================================================\n",
      "input_5 (InputLayer)            (None, 30924)        0                                            \n",
      "__________________________________________________________________________________________________\n",
      "Person (EntityLayer)            (None, 32)           990656      input_5[0][0]                    \n",
      "__________________________________________________________________________________________________\n",
      "Movie (EntityLayer)             (None, 32)           990656      input_5[0][0]                    \n",
      "__________________________________________________________________________________________________\n",
      "composer (RelationLayer)        (None, 64)           6272        Person[0][0]                     \n",
      "                                                                 Movie[0][0]                      \n",
      "__________________________________________________________________________________________________\n",
      "indicator-composer (Dense)      (None, 1)            65          composer[0][0]                   \n",
      "==================================================================================================\n",
      "Total params: 1,987,649\n",
      "Trainable params: 6,337\n",
      "Non-trainable params: 1,981,312\n",
      "__________________________________________________________________________________________________\n",
      "None\n"
     ]
    },
    {
     "name": "stdout",
     "output_type": "stream",
     "text": [
      "Train on 90000 samples, validate on 10000 samples\n",
      "Epoch 1/10\n",
      "90000/90000 [==============================] - 37s 409us/step - loss: 0.0584 - acc: 0.9896 - val_loss: 0.0470 - val_acc: 0.9925\n",
      "Epoch 2/10\n",
      "90000/90000 [==============================] - 37s 409us/step - loss: 0.0288 - acc: 0.9955 - val_loss: 0.0452 - val_acc: 0.9925\n",
      "Epoch 3/10\n",
      "90000/90000 [==============================] - 37s 409us/step - loss: 0.0269 - acc: 0.9961 - val_loss: 0.0453 - val_acc: 0.9926\n",
      "Epoch 4/10\n",
      "90000/90000 [==============================] - 37s 409us/step - loss: 0.0265 - acc: 0.9961 - val_loss: 0.0453 - val_acc: 0.9926\n",
      "Epoch 5/10\n",
      "90000/90000 [==============================] - 37s 409us/step - loss: 0.0262 - acc: 0.9961 - val_loss: 0.0474 - val_acc: 0.9926\n",
      "Epoch 6/10\n",
      "90000/90000 [==============================] - 37s 409us/step - loss: 0.0258 - acc: 0.9961 - val_loss: 0.0449 - val_acc: 0.9926\n",
      "Epoch 7/10\n",
      "90000/90000 [==============================] - 37s 409us/step - loss: 0.0258 - acc: 0.9962 - val_loss: 0.0462 - val_acc: 0.9926\n",
      "Epoch 8/10\n",
      "90000/90000 [==============================] - 37s 409us/step - loss: 0.0258 - acc: 0.9962 - val_loss: 0.0469 - val_acc: 0.9926\n",
      "Epoch 9/10\n",
      "90000/90000 [==============================] - 37s 409us/step - loss: 0.0263 - acc: 0.9962 - val_loss: 0.0529 - val_acc: 0.9926\n",
      "Epoch 10/10\n",
      "90000/90000 [==============================] - 37s 408us/step - loss: 0.0259 - acc: 0.9961 - val_loss: 0.0483 - val_acc: 0.9926\n",
      "100000/100000 [==============================] - 34s 339us/step\n",
      "[[0]\n",
      " [0]\n",
      " [0]\n",
      " ...\n",
      " [0]\n",
      " [0]\n",
      " [0]]\n",
      "0.99598\n",
      "-----------------------------------------------------------------------\n",
      "Relación: producer\n",
      "-----------------------------------------------------------------------\n",
      "__________________________________________________________________________________________________\n",
      "Layer (type)                    Output Shape         Param #     Connected to                     \n",
      "==================================================================================================\n",
      "input_5 (InputLayer)            (None, 30924)        0                                            \n",
      "__________________________________________________________________________________________________\n",
      "Person (EntityLayer)            (None, 32)           990656      input_5[0][0]                    \n",
      "__________________________________________________________________________________________________\n",
      "Movie (EntityLayer)             (None, 32)           990656      input_5[0][0]                    \n",
      "__________________________________________________________________________________________________\n",
      "producer (RelationLayer)        (None, 64)           6272        Person[0][0]                     \n",
      "                                                                 Movie[0][0]                      \n",
      "__________________________________________________________________________________________________\n",
      "indicator-producer (Dense)      (None, 1)            65          producer[0][0]                   \n",
      "==================================================================================================\n",
      "Total params: 1,987,649\n",
      "Trainable params: 6,337\n",
      "Non-trainable params: 1,981,312\n",
      "__________________________________________________________________________________________________\n",
      "None\n",
      "Train on 90000 samples, validate on 10000 samples\n",
      "Epoch 1/10\n",
      "90000/90000 [==============================] - 37s 409us/step - loss: 0.1533 - acc: 0.9671 - val_loss: 0.1263 - val_acc: 0.9728\n",
      "Epoch 2/10\n",
      "90000/90000 [==============================] - 37s 410us/step - loss: 0.1282 - acc: 0.9725 - val_loss: 0.1251 - val_acc: 0.9728\n",
      "Epoch 3/10\n",
      "90000/90000 [==============================] - 37s 409us/step - loss: 0.1278 - acc: 0.9727 - val_loss: 0.1257 - val_acc: 0.9728\n",
      "Epoch 4/10\n",
      "90000/90000 [==============================] - 37s 409us/step - loss: 0.1278 - acc: 0.9726 - val_loss: 0.1278 - val_acc: 0.9727\n",
      "Epoch 5/10\n",
      "90000/90000 [==============================] - 37s 409us/step - loss: 0.1277 - acc: 0.9727 - val_loss: 0.1260 - val_acc: 0.9728\n",
      "Epoch 6/10\n",
      "90000/90000 [==============================] - 37s 409us/step - loss: 0.1277 - acc: 0.9726 - val_loss: 0.1263 - val_acc: 0.9728\n",
      "Epoch 7/10\n",
      "90000/90000 [==============================] - 37s 409us/step - loss: 0.1274 - acc: 0.9726 - val_loss: 0.1390 - val_acc: 0.9727\n",
      "Epoch 8/10\n",
      "90000/90000 [==============================] - 37s 409us/step - loss: 0.1277 - acc: 0.9726 - val_loss: 0.1257 - val_acc: 0.9728\n",
      "Epoch 9/10\n",
      "90000/90000 [==============================] - 37s 410us/step - loss: 0.1273 - acc: 0.9727 - val_loss: 0.1265 - val_acc: 0.9727\n",
      "Epoch 10/10\n",
      "90000/90000 [==============================] - 37s 410us/step - loss: 0.1271 - acc: 0.9726 - val_loss: 0.1250 - val_acc: 0.9728\n",
      "100000/100000 [==============================] - 34s 340us/step\n",
      "[[0]\n",
      " [0]\n",
      " [0]\n",
      " ...\n",
      " [0]\n",
      " [0]\n",
      " [0]]\n",
      "0.97276\n",
      "-----------------------------------------------------------------------\n",
      "Relación: editor\n",
      "-----------------------------------------------------------------------\n",
      "__________________________________________________________________________________________________\n",
      "Layer (type)                    Output Shape         Param #     Connected to                     \n",
      "==================================================================================================\n",
      "input_5 (InputLayer)            (None, 30924)        0                                            \n",
      "__________________________________________________________________________________________________\n",
      "Person (EntityLayer)            (None, 32)           990656      input_5[0][0]                    \n",
      "__________________________________________________________________________________________________\n",
      "Movie (EntityLayer)             (None, 32)           990656      input_5[0][0]                    \n",
      "__________________________________________________________________________________________________\n",
      "editor (RelationLayer)          (None, 64)           6272        Person[0][0]                     \n",
      "                                                                 Movie[0][0]                      \n",
      "__________________________________________________________________________________________________\n",
      "indicator-editor (Dense)        (None, 1)            65          editor[0][0]                     \n",
      "==================================================================================================\n",
      "Total params: 1,987,649\n",
      "Trainable params: 6,337\n",
      "Non-trainable params: 1,981,312\n",
      "__________________________________________________________________________________________________\n",
      "None\n",
      "Train on 90000 samples, validate on 10000 samples\n",
      "Epoch 1/10\n",
      "90000/90000 [==============================] - 37s 408us/step - loss: 0.0567 - acc: 0.9898 - val_loss: 0.0433 - val_acc: 0.9938\n",
      "Epoch 2/10\n",
      "90000/90000 [==============================] - 37s 409us/step - loss: 0.0215 - acc: 0.9967 - val_loss: 0.0474 - val_acc: 0.9939\n",
      "Epoch 3/10\n",
      "90000/90000 [==============================] - 37s 409us/step - loss: 0.0201 - acc: 0.9970 - val_loss: 0.0447 - val_acc: 0.9939\n",
      "Epoch 4/10\n",
      "90000/90000 [==============================] - 37s 409us/step - loss: 0.0194 - acc: 0.9972 - val_loss: 0.0419 - val_acc: 0.9939\n",
      "Epoch 5/10\n",
      "90000/90000 [==============================] - 37s 409us/step - loss: 0.0191 - acc: 0.9973 - val_loss: 0.0463 - val_acc: 0.9938\n",
      "Epoch 6/10\n",
      "90000/90000 [==============================] - 37s 409us/step - loss: 0.0192 - acc: 0.9973 - val_loss: 0.0446 - val_acc: 0.9939\n",
      "Epoch 7/10\n",
      "90000/90000 [==============================] - 37s 409us/step - loss: 0.0192 - acc: 0.9973 - val_loss: 0.0398 - val_acc: 0.9939\n",
      "Epoch 8/10\n",
      "90000/90000 [==============================] - 37s 409us/step - loss: 0.0193 - acc: 0.9973 - val_loss: 0.0486 - val_acc: 0.9926\n",
      "Epoch 9/10\n",
      "90000/90000 [==============================] - 37s 409us/step - loss: 0.0189 - acc: 0.9973 - val_loss: 0.0424 - val_acc: 0.9939\n",
      "Epoch 10/10\n",
      "90000/90000 [==============================] - 37s 409us/step - loss: 0.0192 - acc: 0.9974 - val_loss: 0.0422 - val_acc: 0.9939\n",
      "100000/100000 [==============================] - 34s 339us/step\n",
      "[[0]\n",
      " [0]\n",
      " [0]\n",
      " ...\n",
      " [0]\n",
      " [0]\n",
      " [0]]\n",
      "0.99711\n",
      "-----------------------------------------------------------------------\n",
      "Relación: actor\n",
      "-----------------------------------------------------------------------\n"
     ]
    },
    {
     "name": "stdout",
     "output_type": "stream",
     "text": [
      "__________________________________________________________________________________________________\n",
      "Layer (type)                    Output Shape         Param #     Connected to                     \n",
      "==================================================================================================\n",
      "input_5 (InputLayer)            (None, 30924)        0                                            \n",
      "__________________________________________________________________________________________________\n",
      "Person (EntityLayer)            (None, 32)           990656      input_5[0][0]                    \n",
      "__________________________________________________________________________________________________\n",
      "Movie (EntityLayer)             (None, 32)           990656      input_5[0][0]                    \n",
      "__________________________________________________________________________________________________\n",
      "actor (RelationLayer)           (None, 64)           6272        Person[0][0]                     \n",
      "                                                                 Movie[0][0]                      \n",
      "__________________________________________________________________________________________________\n",
      "indicator-actor (Dense)         (None, 1)            65          actor[0][0]                      \n",
      "==================================================================================================\n",
      "Total params: 1,987,649\n",
      "Trainable params: 6,337\n",
      "Non-trainable params: 1,981,312\n",
      "__________________________________________________________________________________________________\n",
      "None\n",
      "Train on 90000 samples, validate on 10000 samples\n",
      "Epoch 1/10\n",
      "90000/90000 [==============================] - 37s 409us/step - loss: 0.7163 - acc: 0.5735 - val_loss: 0.6670 - val_acc: 0.6257\n",
      "Epoch 2/10\n",
      "90000/90000 [==============================] - 37s 409us/step - loss: 0.6820 - acc: 0.5815 - val_loss: 0.6646 - val_acc: 0.6257\n",
      "Epoch 3/10\n",
      "90000/90000 [==============================] - 37s 409us/step - loss: 0.6811 - acc: 0.5820 - val_loss: 0.6662 - val_acc: 0.6257\n",
      "Epoch 4/10\n",
      "90000/90000 [==============================] - 37s 409us/step - loss: 0.6807 - acc: 0.5820 - val_loss: 0.6666 - val_acc: 0.6257\n",
      "Epoch 5/10\n",
      "90000/90000 [==============================] - 37s 409us/step - loss: 0.6805 - acc: 0.5820 - val_loss: 0.6721 - val_acc: 0.6244\n",
      "Epoch 6/10\n",
      "90000/90000 [==============================] - 37s 409us/step - loss: 0.6805 - acc: 0.5823 - val_loss: 0.6659 - val_acc: 0.6257\n",
      "Epoch 7/10\n",
      "90000/90000 [==============================] - 37s 408us/step - loss: 0.6802 - acc: 0.5826 - val_loss: 0.6645 - val_acc: 0.6257\n",
      "Epoch 8/10\n",
      "90000/90000 [==============================] - 37s 409us/step - loss: 0.6801 - acc: 0.5825 - val_loss: 0.6673 - val_acc: 0.6257\n",
      "Epoch 9/10\n",
      "90000/90000 [==============================] - 37s 409us/step - loss: 0.6799 - acc: 0.5827 - val_loss: 0.6672 - val_acc: 0.6186\n",
      "Epoch 10/10\n",
      "90000/90000 [==============================] - 37s 409us/step - loss: 0.6801 - acc: 0.5827 - val_loss: 0.6648 - val_acc: 0.6257\n",
      "100000/100000 [==============================] - 34s 339us/step\n",
      "[[0]\n",
      " [0]\n",
      " [0]\n",
      " ...\n",
      " [0]\n",
      " [0]\n",
      " [0]]\n",
      "0.58727\n",
      "-----------------------------------------------------------------------\n",
      "Relación: actress\n",
      "-----------------------------------------------------------------------\n",
      "__________________________________________________________________________________________________\n",
      "Layer (type)                    Output Shape         Param #     Connected to                     \n",
      "==================================================================================================\n",
      "input_5 (InputLayer)            (None, 30924)        0                                            \n",
      "__________________________________________________________________________________________________\n",
      "Person (EntityLayer)            (None, 32)           990656      input_5[0][0]                    \n",
      "__________________________________________________________________________________________________\n",
      "Movie (EntityLayer)             (None, 32)           990656      input_5[0][0]                    \n",
      "__________________________________________________________________________________________________\n",
      "actress (RelationLayer)         (None, 64)           6272        Person[0][0]                     \n",
      "                                                                 Movie[0][0]                      \n",
      "__________________________________________________________________________________________________\n",
      "indicator-actress (Dense)       (None, 1)            65          actress[0][0]                    \n",
      "==================================================================================================\n",
      "Total params: 1,987,649\n",
      "Trainable params: 6,337\n",
      "Non-trainable params: 1,981,312\n",
      "__________________________________________________________________________________________________\n",
      "None\n",
      "Train on 90000 samples, validate on 10000 samples\n",
      "Epoch 1/10\n",
      "90000/90000 [==============================] - 37s 409us/step - loss: 0.5736 - acc: 0.7560 - val_loss: 0.5302 - val_acc: 0.7931\n",
      "Epoch 2/10\n",
      "90000/90000 [==============================] - 37s 409us/step - loss: 0.5491 - acc: 0.7622 - val_loss: 0.5141 - val_acc: 0.7932\n",
      "Epoch 3/10\n",
      "90000/90000 [==============================] - 37s 409us/step - loss: 0.5483 - acc: 0.7627 - val_loss: 0.5115 - val_acc: 0.7932\n",
      "Epoch 4/10\n",
      "90000/90000 [==============================] - 37s 410us/step - loss: 0.5480 - acc: 0.7630 - val_loss: 0.5103 - val_acc: 0.7932\n",
      "Epoch 5/10\n",
      "90000/90000 [==============================] - 37s 409us/step - loss: 0.5476 - acc: 0.7629 - val_loss: 0.5099 - val_acc: 0.7932\n",
      "Epoch 6/10\n",
      "90000/90000 [==============================] - 37s 410us/step - loss: 0.5470 - acc: 0.7626 - val_loss: 0.5112 - val_acc: 0.7932\n",
      "Epoch 7/10\n",
      "90000/90000 [==============================] - 37s 410us/step - loss: 0.5475 - acc: 0.7630 - val_loss: 0.5107 - val_acc: 0.7932\n",
      "Epoch 8/10\n",
      "90000/90000 [==============================] - 37s 410us/step - loss: 0.5471 - acc: 0.7630 - val_loss: 0.5106 - val_acc: 0.7932\n",
      "Epoch 9/10\n",
      "90000/90000 [==============================] - 37s 409us/step - loss: 0.5470 - acc: 0.7630 - val_loss: 0.5095 - val_acc: 0.7932\n",
      "Epoch 10/10\n",
      "90000/90000 [==============================] - 37s 409us/step - loss: 0.5468 - acc: 0.7632 - val_loss: 0.5130 - val_acc: 0.7932\n",
      "100000/100000 [==============================] - 34s 339us/step\n",
      "[[0]\n",
      " [0]\n",
      " [0]\n",
      " ...\n",
      " [0]\n",
      " [0]\n",
      " [0]]\n",
      "0.76686\n",
      "-----------------------------------------------------------------------\n",
      "Relación: writer\n",
      "-----------------------------------------------------------------------\n",
      "__________________________________________________________________________________________________\n",
      "Layer (type)                    Output Shape         Param #     Connected to                     \n",
      "==================================================================================================\n",
      "input_5 (InputLayer)            (None, 30924)        0                                            \n",
      "__________________________________________________________________________________________________\n",
      "Person (EntityLayer)            (None, 32)           990656      input_5[0][0]                    \n",
      "__________________________________________________________________________________________________\n",
      "Movie (EntityLayer)             (None, 32)           990656      input_5[0][0]                    \n",
      "__________________________________________________________________________________________________\n",
      "writer (RelationLayer)          (None, 64)           6272        Person[0][0]                     \n",
      "                                                                 Movie[0][0]                      \n",
      "__________________________________________________________________________________________________\n",
      "indicator-writer (Dense)        (None, 1)            65          writer[0][0]                     \n",
      "==================================================================================================\n",
      "Total params: 1,987,649\n",
      "Trainable params: 6,337\n",
      "Non-trainable params: 1,981,312\n",
      "__________________________________________________________________________________________________\n",
      "None\n",
      "Train on 90000 samples, validate on 10000 samples\n",
      "Epoch 1/10\n",
      "90000/90000 [==============================] - 37s 409us/step - loss: 0.4027 - acc: 0.8702 - val_loss: 0.4534 - val_acc: 0.8365\n",
      "Epoch 2/10\n",
      "90000/90000 [==============================] - 37s 409us/step - loss: 0.3759 - acc: 0.8766 - val_loss: 0.4490 - val_acc: 0.8365\n",
      "Epoch 3/10\n",
      "90000/90000 [==============================] - 37s 409us/step - loss: 0.3759 - acc: 0.8769 - val_loss: 0.4659 - val_acc: 0.8365\n",
      "Epoch 4/10\n",
      "90000/90000 [==============================] - 37s 409us/step - loss: 0.3757 - acc: 0.8768 - val_loss: 0.4484 - val_acc: 0.8365\n",
      "Epoch 5/10\n",
      "90000/90000 [==============================] - 37s 410us/step - loss: 0.3755 - acc: 0.8770 - val_loss: 0.4490 - val_acc: 0.8365\n",
      "Epoch 6/10\n",
      "90000/90000 [==============================] - 37s 409us/step - loss: 0.3755 - acc: 0.8769 - val_loss: 0.4522 - val_acc: 0.8365\n",
      "Epoch 7/10\n",
      "90000/90000 [==============================] - 37s 409us/step - loss: 0.3751 - acc: 0.8769 - val_loss: 0.4507 - val_acc: 0.8365\n",
      "Epoch 8/10\n",
      "90000/90000 [==============================] - 37s 410us/step - loss: 0.3747 - acc: 0.8769 - val_loss: 0.4547 - val_acc: 0.8365\n",
      "Epoch 9/10\n",
      "90000/90000 [==============================] - 37s 410us/step - loss: 0.3750 - acc: 0.8770 - val_loss: 0.4545 - val_acc: 0.8365\n",
      "Epoch 10/10\n",
      "90000/90000 [==============================] - 37s 410us/step - loss: 0.3750 - acc: 0.8770 - val_loss: 0.4529 - val_acc: 0.8365\n",
      "100000/100000 [==============================] - 34s 339us/step\n",
      "[[0]\n",
      " [0]\n",
      " [0]\n",
      " ...\n",
      " [0]\n",
      " [0]\n",
      " [0]]\n",
      "0.87306\n",
      "-----------------------------------------------------------------------\n",
      "Relación: production_designer\n",
      "-----------------------------------------------------------------------\n",
      "__________________________________________________________________________________________________\n",
      "Layer (type)                    Output Shape         Param #     Connected to                     \n",
      "==================================================================================================\n",
      "input_5 (InputLayer)            (None, 30924)        0                                            \n",
      "__________________________________________________________________________________________________\n",
      "Person (EntityLayer)            (None, 32)           990656      input_5[0][0]                    \n",
      "__________________________________________________________________________________________________\n",
      "Movie (EntityLayer)             (None, 32)           990656      input_5[0][0]                    \n",
      "__________________________________________________________________________________________________\n",
      "production_designer (RelationLa (None, 64)           6272        Person[0][0]                     \n",
      "                                                                 Movie[0][0]                      \n",
      "__________________________________________________________________________________________________\n",
      "indicator-production_designer ( (None, 1)            65          production_designer[0][0]        \n",
      "==================================================================================================\n",
      "Total params: 1,987,649\n",
      "Trainable params: 6,337\n",
      "Non-trainable params: 1,981,312\n",
      "__________________________________________________________________________________________________\n",
      "None\n",
      "Train on 90000 samples, validate on 10000 samples\n",
      "Epoch 1/10\n",
      "90000/90000 [==============================] - 37s 409us/step - loss: 0.0477 - acc: 0.9911 - val_loss: 0.0086 - val_acc: 0.9989\n",
      "Epoch 2/10\n",
      "90000/90000 [==============================] - 37s 409us/step - loss: 0.0197 - acc: 0.9971 - val_loss: 0.0090 - val_acc: 0.9990\n",
      "Epoch 3/10\n",
      "90000/90000 [==============================] - 37s 409us/step - loss: 0.0161 - acc: 0.9978 - val_loss: 0.0079 - val_acc: 0.9990\n",
      "Epoch 4/10\n",
      "90000/90000 [==============================] - 37s 409us/step - loss: 0.0158 - acc: 0.9978 - val_loss: 0.0084 - val_acc: 0.9990\n",
      "Epoch 5/10\n",
      "90000/90000 [==============================] - 37s 410us/step - loss: 0.0158 - acc: 0.9979 - val_loss: 0.0078 - val_acc: 0.9990\n",
      "Epoch 6/10\n",
      "90000/90000 [==============================] - 37s 409us/step - loss: 0.0149 - acc: 0.9980 - val_loss: 0.0077 - val_acc: 0.9990\n",
      "Epoch 7/10\n",
      "90000/90000 [==============================] - 37s 409us/step - loss: 0.0155 - acc: 0.9980 - val_loss: 0.0084 - val_acc: 0.9989\n",
      "Epoch 8/10\n",
      "90000/90000 [==============================] - 37s 409us/step - loss: 0.0154 - acc: 0.9980 - val_loss: 0.0077 - val_acc: 0.9990\n",
      "Epoch 9/10\n",
      "90000/90000 [==============================] - 37s 409us/step - loss: 0.0159 - acc: 0.9978 - val_loss: 0.0081 - val_acc: 0.9990\n",
      "Epoch 10/10\n",
      "90000/90000 [==============================] - 37s 409us/step - loss: 0.0153 - acc: 0.9980 - val_loss: 0.0253 - val_acc: 0.9878\n",
      "100000/100000 [==============================] - 34s 339us/step\n",
      "[[0]\n",
      " [0]\n",
      " [0]\n",
      " ...\n",
      " [0]\n",
      " [0]\n",
      " [0]]\n",
      "0.97141\n",
      "-----------------------------------------------------------------------\n",
      "Relación: archive_footage\n",
      "-----------------------------------------------------------------------\n",
      "__________________________________________________________________________________________________\n",
      "Layer (type)                    Output Shape         Param #     Connected to                     \n",
      "==================================================================================================\n",
      "input_5 (InputLayer)            (None, 30924)        0                                            \n",
      "__________________________________________________________________________________________________\n",
      "Person (EntityLayer)            (None, 32)           990656      input_5[0][0]                    \n",
      "__________________________________________________________________________________________________\n",
      "Movie (EntityLayer)             (None, 32)           990656      input_5[0][0]                    \n",
      "__________________________________________________________________________________________________\n",
      "archive_footage (RelationLayer) (None, 64)           6272        Person[0][0]                     \n",
      "                                                                 Movie[0][0]                      \n",
      "__________________________________________________________________________________________________\n",
      "indicator-archive_footage (Dens (None, 1)            65          archive_footage[0][0]            \n",
      "==================================================================================================\n",
      "Total params: 1,987,649\n",
      "Trainable params: 6,337\n",
      "Non-trainable params: 1,981,312\n",
      "__________________________________________________________________________________________________\n",
      "None\n",
      "Train on 90000 samples, validate on 10000 samples\n",
      "Epoch 1/10\n",
      "90000/90000 [==============================] - 37s 409us/step - loss: 0.0294 - acc: 0.9952 - val_loss: 1.0000e-07 - val_acc: 1.0000\n",
      "Epoch 2/10\n",
      "90000/90000 [==============================] - 37s 409us/step - loss: 0.0025 - acc: 0.9998 - val_loss: 1.0000e-07 - val_acc: 1.0000\n",
      "Epoch 3/10\n",
      "90000/90000 [==============================] - 37s 409us/step - loss: 0.0025 - acc: 0.9998 - val_loss: 1.0000e-07 - val_acc: 1.0000\n",
      "Epoch 4/10\n",
      "90000/90000 [==============================] - 37s 409us/step - loss: 0.0025 - acc: 0.9998 - val_loss: 1.0000e-07 - val_acc: 1.0000\n",
      "Epoch 5/10\n",
      "90000/90000 [==============================] - 37s 410us/step - loss: 0.0025 - acc: 0.9998 - val_loss: 1.0000e-07 - val_acc: 1.0000\n",
      "Epoch 6/10\n",
      "90000/90000 [==============================] - 37s 409us/step - loss: 0.0025 - acc: 0.9998 - val_loss: 1.0000e-07 - val_acc: 1.0000\n",
      "Epoch 7/10\n",
      "90000/90000 [==============================] - 37s 409us/step - loss: 0.0025 - acc: 0.9998 - val_loss: 1.0000e-07 - val_acc: 1.0000\n",
      "Epoch 8/10\n",
      "90000/90000 [==============================] - 37s 410us/step - loss: 0.0025 - acc: 0.9998 - val_loss: 1.0000e-07 - val_acc: 1.0000\n",
      "Epoch 9/10\n",
      "90000/90000 [==============================] - 37s 410us/step - loss: 0.0025 - acc: 0.9998 - val_loss: 1.0000e-07 - val_acc: 1.0000\n",
      "Epoch 10/10\n",
      "90000/90000 [==============================] - 37s 409us/step - loss: 0.0025 - acc: 0.9998 - val_loss: 1.0000e-07 - val_acc: 1.0000\n",
      "100000/100000 [==============================] - 34s 340us/step\n",
      "[[0]\n",
      " [0]\n",
      " [0]\n",
      " ...\n",
      " [0]\n",
      " [0]\n",
      " [0]]\n",
      "0.99986\n",
      "-----------------------------------------------------------------------\n"
     ]
    }
   ],
   "source": [
    "x = Input(shape=(emb_m.output_shape[1],), sparse=True)\n",
    "Person_e=EntityLayer(snn.entity_shape, name=Person.name)(x)\n",
    "Movie_e=EntityLayer(snn.entity_shape, name=Movie.name)(x)\n",
    "for rel in relations.values():\n",
    "#rel = list(relations.values())[0]\n",
    "    print('Relación: '+rel.label)\n",
    "    print('-----------------------------------------------------------------------')\n",
    "    Rel_r=RelationLayer(snn.relation_shape, name=rel.label)([Person_e, Movie_e])\n",
    "    Rel_i=Dense(units=1, activation='sigmoid', name=\"indicator-%s\" % rel.label)(Rel_r)\n",
    "    Rel_m = Model(inputs=x, outputs=Rel_i)\n",
    "    Rel_m.layers[1].set_weights(Person_m.layers[1].get_weights())\n",
    "    Rel_m.layers[2].set_weights(Movie_m.layers[1].get_weights())\n",
    "    Rel_m.layers[1].trainable=False\n",
    "    Rel_m.layers[2].trainable=False\n",
    "    Rel_m.compile(optimizer='rmsprop', loss='binary_crossentropy', metrics=['acc'])\n",
    "    print(Rel_m.summary())\n",
    "    #draw(Rel_m)\n",
    "\n",
    "    yy = [ [int(t.Relation==rel.label)] for t in df.itertuples() if t.Relation!='self']\n",
    "    yt2 = np.asarray(yy)\n",
    "\n",
    "    Rel_m.fit(Xte, yt2, epochs=10, validation_split=0.1)\n",
    "\n",
    "    yp = Rel_m.predict(Xte, verbose=1)\n",
    "    yp = (yp > 0.5).astype(int)\n",
    "    print(yp)\n",
    "    print((yp == yt2).mean())\n",
    "\n",
    "    name = rel.label\n",
    "    Rel_m.save('../data/snn_r_{name}.model'.format(name=name))\n",
    "    print('-----------------------------------------------------------------------')"
   ]
  },
  {
   "cell_type": "code",
   "execution_count": 45,
   "metadata": {},
   "outputs": [
    {
     "data": {
      "text/plain": [
       "{'director': 12342,\n",
       " 'cinematographer': 6776,\n",
       " 'composer': 402,\n",
       " 'producer': 2724,\n",
       " 'editor': 288,\n",
       " 'actor': 41270,\n",
       " 'actress': 23314,\n",
       " 'writer': 12694,\n",
       " 'production_designer': 176,\n",
       " 'archive_footage': 14}"
      ]
     },
     "execution_count": 45,
     "metadata": {},
     "output_type": "execute_result"
    }
   ],
   "source": [
    "rcont={i:0 for i in relations.keys()}\n",
    "for t in df.itertuples():\n",
    "    if t.Relation!='self':\n",
    "        rcont[t.Relation]+=1\n",
    "rcont"
   ]
  },
  {
   "cell_type": "code",
   "execution_count": null,
   "metadata": {},
   "outputs": [],
   "source": []
  }
 ],
 "metadata": {
  "kernelspec": {
   "display_name": "Python 3",
   "language": "python",
   "name": "python3"
  },
  "language_info": {
   "codemirror_mode": {
    "name": "ipython",
    "version": 3
   },
   "file_extension": ".py",
   "mimetype": "text/x-python",
   "name": "python",
   "nbconvert_exporter": "python",
   "pygments_lexer": "ipython3",
   "version": "3.7.3"
  },
  "latex_envs": {
   "LaTeX_envs_menu_present": true,
   "autoclose": false,
   "autocomplete": true,
   "bibliofile": "biblio.bib",
   "cite_by": "apalike",
   "current_citInitial": 1,
   "eqLabelWithNumbers": true,
   "eqNumInitial": 1,
   "hotkeys": {
    "equation": "Ctrl-E",
    "itemize": "Ctrl-I"
   },
   "labels_anchors": false,
   "latex_user_defs": false,
   "report_style_numbering": false,
   "user_envs_cfg": false
  },
  "varInspector": {
   "cols": {
    "lenName": 16,
    "lenType": 16,
    "lenVar": 40
   },
   "kernels_config": {
    "python": {
     "delete_cmd_postfix": "",
     "delete_cmd_prefix": "del ",
     "library": "var_list.py",
     "varRefreshCmd": "print(var_dic_list())"
    },
    "r": {
     "delete_cmd_postfix": ") ",
     "delete_cmd_prefix": "rm(",
     "library": "var_list.r",
     "varRefreshCmd": "cat(var_dic_list()) "
    }
   },
   "types_to_exclude": [
    "module",
    "function",
    "builtin_function_or_method",
    "instance",
    "_Feature"
   ],
   "window_display": false
  }
 },
 "nbformat": 4,
 "nbformat_minor": 2
}
